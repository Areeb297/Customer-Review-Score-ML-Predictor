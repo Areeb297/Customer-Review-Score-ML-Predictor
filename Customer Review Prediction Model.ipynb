{
 "cells": [
  {
   "cell_type": "code",
   "execution_count": 1,
   "id": "cb7c18dd",
   "metadata": {},
   "outputs": [],
   "source": [
    "import numpy as np\n",
    "import pandas as pd\n",
    "import matplotlib.pyplot as plt\n",
    "%matplotlib inline\n",
    "import seaborn as sns\n",
    "sns.set()"
   ]
  },
  {
   "cell_type": "markdown",
   "id": "acaa945c",
   "metadata": {},
   "source": [
    "## Data Cleaning"
   ]
  },
  {
   "cell_type": "markdown",
   "id": "f1c1f696",
   "metadata": {},
   "source": [
    "An order may have multiple items \\\n",
    "Each item may be fulfilled by different sellers \\\n",
    "All text identifying stores and partners have been replaced with Game of Thrones great houses\n"
   ]
  },
  {
   "cell_type": "markdown",
   "id": "1df7162d",
   "metadata": {},
   "source": [
    "Read in all 9 datasets"
   ]
  },
  {
   "cell_type": "code",
   "execution_count": 23,
   "id": "f48c5b48",
   "metadata": {},
   "outputs": [],
   "source": [
    "order_reviews = pd.read_csv('olist_order_reviews_dataset.csv')\n",
    "seller_info = pd.read_csv('olist_sellers_dataset.csv')\n",
    "customers_data = pd.read_csv('olist_customers_dataset.csv')\n",
    "order_items_info = pd.read_csv('olist_order_items_dataset.csv')\n",
    "order_payments_info = pd.read_csv('olist_order_payments_dataset.csv')\n",
    "order_info = pd.read_csv('olist_orders_dataset.csv')\n",
    "product_info = pd.read_csv('olist_products_dataset.csv')\n",
    "product_category_name = pd.read_csv('product_category_name_translation.csv')"
   ]
  },
  {
   "cell_type": "markdown",
   "id": "78c006c4",
   "metadata": {},
   "source": [
    "### Order Payments Dataset"
   ]
  },
  {
   "cell_type": "code",
   "execution_count": 24,
   "id": "39ae9e91",
   "metadata": {},
   "outputs": [
    {
     "data": {
      "text/html": [
       "<div>\n",
       "<style scoped>\n",
       "    .dataframe tbody tr th:only-of-type {\n",
       "        vertical-align: middle;\n",
       "    }\n",
       "\n",
       "    .dataframe tbody tr th {\n",
       "        vertical-align: top;\n",
       "    }\n",
       "\n",
       "    .dataframe thead th {\n",
       "        text-align: right;\n",
       "    }\n",
       "</style>\n",
       "<table border=\"1\" class=\"dataframe\">\n",
       "  <thead>\n",
       "    <tr style=\"text-align: right;\">\n",
       "      <th></th>\n",
       "      <th>order_id</th>\n",
       "      <th>payment_sequential</th>\n",
       "      <th>payment_type</th>\n",
       "      <th>payment_installments</th>\n",
       "      <th>payment_value</th>\n",
       "    </tr>\n",
       "  </thead>\n",
       "  <tbody>\n",
       "    <tr>\n",
       "      <th>0</th>\n",
       "      <td>b81ef226f3fe1789b1e8b2acac839d17</td>\n",
       "      <td>1</td>\n",
       "      <td>credit_card</td>\n",
       "      <td>8</td>\n",
       "      <td>99.33</td>\n",
       "    </tr>\n",
       "    <tr>\n",
       "      <th>1</th>\n",
       "      <td>a9810da82917af2d9aefd1278f1dcfa0</td>\n",
       "      <td>1</td>\n",
       "      <td>credit_card</td>\n",
       "      <td>1</td>\n",
       "      <td>24.39</td>\n",
       "    </tr>\n",
       "    <tr>\n",
       "      <th>2</th>\n",
       "      <td>25e8ea4e93396b6fa0d3dd708e76c1bd</td>\n",
       "      <td>1</td>\n",
       "      <td>credit_card</td>\n",
       "      <td>1</td>\n",
       "      <td>65.71</td>\n",
       "    </tr>\n",
       "    <tr>\n",
       "      <th>3</th>\n",
       "      <td>ba78997921bbcdc1373bb41e913ab953</td>\n",
       "      <td>1</td>\n",
       "      <td>credit_card</td>\n",
       "      <td>8</td>\n",
       "      <td>107.78</td>\n",
       "    </tr>\n",
       "    <tr>\n",
       "      <th>4</th>\n",
       "      <td>42fdf880ba16b47b59251dd489d4441a</td>\n",
       "      <td>1</td>\n",
       "      <td>credit_card</td>\n",
       "      <td>2</td>\n",
       "      <td>128.45</td>\n",
       "    </tr>\n",
       "  </tbody>\n",
       "</table>\n",
       "</div>"
      ],
      "text/plain": [
       "                           order_id  payment_sequential payment_type  \\\n",
       "0  b81ef226f3fe1789b1e8b2acac839d17                   1  credit_card   \n",
       "1  a9810da82917af2d9aefd1278f1dcfa0                   1  credit_card   \n",
       "2  25e8ea4e93396b6fa0d3dd708e76c1bd                   1  credit_card   \n",
       "3  ba78997921bbcdc1373bb41e913ab953                   1  credit_card   \n",
       "4  42fdf880ba16b47b59251dd489d4441a                   1  credit_card   \n",
       "\n",
       "   payment_installments  payment_value  \n",
       "0                     8          99.33  \n",
       "1                     1          24.39  \n",
       "2                     1          65.71  \n",
       "3                     8         107.78  \n",
       "4                     2         128.45  "
      ]
     },
     "execution_count": 24,
     "metadata": {},
     "output_type": "execute_result"
    }
   ],
   "source": [
    "order_payments_info.head()"
   ]
  },
  {
   "cell_type": "markdown",
   "id": "b43768f1",
   "metadata": {},
   "source": [
    "### Order Information Dataset"
   ]
  },
  {
   "cell_type": "code",
   "execution_count": 25,
   "id": "1ce02dd9",
   "metadata": {},
   "outputs": [
    {
     "data": {
      "text/html": [
       "<div>\n",
       "<style scoped>\n",
       "    .dataframe tbody tr th:only-of-type {\n",
       "        vertical-align: middle;\n",
       "    }\n",
       "\n",
       "    .dataframe tbody tr th {\n",
       "        vertical-align: top;\n",
       "    }\n",
       "\n",
       "    .dataframe thead th {\n",
       "        text-align: right;\n",
       "    }\n",
       "</style>\n",
       "<table border=\"1\" class=\"dataframe\">\n",
       "  <thead>\n",
       "    <tr style=\"text-align: right;\">\n",
       "      <th></th>\n",
       "      <th>order_id</th>\n",
       "      <th>customer_id</th>\n",
       "      <th>order_status</th>\n",
       "      <th>order_purchase_timestamp</th>\n",
       "      <th>order_approved_at</th>\n",
       "      <th>order_delivered_carrier_date</th>\n",
       "      <th>order_delivered_customer_date</th>\n",
       "      <th>order_estimated_delivery_date</th>\n",
       "    </tr>\n",
       "  </thead>\n",
       "  <tbody>\n",
       "    <tr>\n",
       "      <th>0</th>\n",
       "      <td>e481f51cbdc54678b7cc49136f2d6af7</td>\n",
       "      <td>9ef432eb6251297304e76186b10a928d</td>\n",
       "      <td>delivered</td>\n",
       "      <td>2017-10-02 10:56:33</td>\n",
       "      <td>2017-10-02 11:07:15</td>\n",
       "      <td>2017-10-04 19:55:00</td>\n",
       "      <td>2017-10-10 21:25:13</td>\n",
       "      <td>2017-10-18 00:00:00</td>\n",
       "    </tr>\n",
       "    <tr>\n",
       "      <th>1</th>\n",
       "      <td>53cdb2fc8bc7dce0b6741e2150273451</td>\n",
       "      <td>b0830fb4747a6c6d20dea0b8c802d7ef</td>\n",
       "      <td>delivered</td>\n",
       "      <td>2018-07-24 20:41:37</td>\n",
       "      <td>2018-07-26 03:24:27</td>\n",
       "      <td>2018-07-26 14:31:00</td>\n",
       "      <td>2018-08-07 15:27:45</td>\n",
       "      <td>2018-08-13 00:00:00</td>\n",
       "    </tr>\n",
       "    <tr>\n",
       "      <th>2</th>\n",
       "      <td>47770eb9100c2d0c44946d9cf07ec65d</td>\n",
       "      <td>41ce2a54c0b03bf3443c3d931a367089</td>\n",
       "      <td>delivered</td>\n",
       "      <td>2018-08-08 08:38:49</td>\n",
       "      <td>2018-08-08 08:55:23</td>\n",
       "      <td>2018-08-08 13:50:00</td>\n",
       "      <td>2018-08-17 18:06:29</td>\n",
       "      <td>2018-09-04 00:00:00</td>\n",
       "    </tr>\n",
       "    <tr>\n",
       "      <th>3</th>\n",
       "      <td>949d5b44dbf5de918fe9c16f97b45f8a</td>\n",
       "      <td>f88197465ea7920adcdbec7375364d82</td>\n",
       "      <td>delivered</td>\n",
       "      <td>2017-11-18 19:28:06</td>\n",
       "      <td>2017-11-18 19:45:59</td>\n",
       "      <td>2017-11-22 13:39:59</td>\n",
       "      <td>2017-12-02 00:28:42</td>\n",
       "      <td>2017-12-15 00:00:00</td>\n",
       "    </tr>\n",
       "    <tr>\n",
       "      <th>4</th>\n",
       "      <td>ad21c59c0840e6cb83a9ceb5573f8159</td>\n",
       "      <td>8ab97904e6daea8866dbdbc4fb7aad2c</td>\n",
       "      <td>delivered</td>\n",
       "      <td>2018-02-13 21:18:39</td>\n",
       "      <td>2018-02-13 22:20:29</td>\n",
       "      <td>2018-02-14 19:46:34</td>\n",
       "      <td>2018-02-16 18:17:02</td>\n",
       "      <td>2018-02-26 00:00:00</td>\n",
       "    </tr>\n",
       "  </tbody>\n",
       "</table>\n",
       "</div>"
      ],
      "text/plain": [
       "                           order_id                       customer_id  \\\n",
       "0  e481f51cbdc54678b7cc49136f2d6af7  9ef432eb6251297304e76186b10a928d   \n",
       "1  53cdb2fc8bc7dce0b6741e2150273451  b0830fb4747a6c6d20dea0b8c802d7ef   \n",
       "2  47770eb9100c2d0c44946d9cf07ec65d  41ce2a54c0b03bf3443c3d931a367089   \n",
       "3  949d5b44dbf5de918fe9c16f97b45f8a  f88197465ea7920adcdbec7375364d82   \n",
       "4  ad21c59c0840e6cb83a9ceb5573f8159  8ab97904e6daea8866dbdbc4fb7aad2c   \n",
       "\n",
       "  order_status order_purchase_timestamp    order_approved_at  \\\n",
       "0    delivered      2017-10-02 10:56:33  2017-10-02 11:07:15   \n",
       "1    delivered      2018-07-24 20:41:37  2018-07-26 03:24:27   \n",
       "2    delivered      2018-08-08 08:38:49  2018-08-08 08:55:23   \n",
       "3    delivered      2017-11-18 19:28:06  2017-11-18 19:45:59   \n",
       "4    delivered      2018-02-13 21:18:39  2018-02-13 22:20:29   \n",
       "\n",
       "  order_delivered_carrier_date order_delivered_customer_date  \\\n",
       "0          2017-10-04 19:55:00           2017-10-10 21:25:13   \n",
       "1          2018-07-26 14:31:00           2018-08-07 15:27:45   \n",
       "2          2018-08-08 13:50:00           2018-08-17 18:06:29   \n",
       "3          2017-11-22 13:39:59           2017-12-02 00:28:42   \n",
       "4          2018-02-14 19:46:34           2018-02-16 18:17:02   \n",
       "\n",
       "  order_estimated_delivery_date  \n",
       "0           2017-10-18 00:00:00  \n",
       "1           2018-08-13 00:00:00  \n",
       "2           2018-09-04 00:00:00  \n",
       "3           2017-12-15 00:00:00  \n",
       "4           2018-02-26 00:00:00  "
      ]
     },
     "execution_count": 25,
     "metadata": {},
     "output_type": "execute_result"
    }
   ],
   "source": [
    "order_info.head(5)"
   ]
  },
  {
   "cell_type": "code",
   "execution_count": 26,
   "id": "22916ab0",
   "metadata": {},
   "outputs": [],
   "source": [
    "order_info['Time_Delivery-Purchase'] = pd.to_datetime(order_info['order_delivered_customer_date']) - \\\n",
    "                                         pd.to_datetime(order_info['order_purchase_timestamp'])"
   ]
  },
  {
   "cell_type": "code",
   "execution_count": 27,
   "id": "46f25df0",
   "metadata": {},
   "outputs": [],
   "source": [
    "order_info['Time_Delivery-Purchase'] = order_info['Time_Delivery-Purchase'].dt.days"
   ]
  },
  {
   "cell_type": "code",
   "execution_count": 30,
   "id": "df967324",
   "metadata": {},
   "outputs": [],
   "source": [
    "# Drop all irrelevant columns\n",
    "\n",
    "order_info.drop(columns=['order_status', 'order_purchase_timestamp', 'order_approved_at', 'order_delivered_carrier_date', \n",
    "                        'order_delivered_customer_date', 'order_estimated_delivery_date'], axis=1,\n",
    "               inplace=True)"
   ]
  },
  {
   "cell_type": "code",
   "execution_count": 31,
   "id": "2d05f885",
   "metadata": {},
   "outputs": [
    {
     "data": {
      "text/html": [
       "<div>\n",
       "<style scoped>\n",
       "    .dataframe tbody tr th:only-of-type {\n",
       "        vertical-align: middle;\n",
       "    }\n",
       "\n",
       "    .dataframe tbody tr th {\n",
       "        vertical-align: top;\n",
       "    }\n",
       "\n",
       "    .dataframe thead th {\n",
       "        text-align: right;\n",
       "    }\n",
       "</style>\n",
       "<table border=\"1\" class=\"dataframe\">\n",
       "  <thead>\n",
       "    <tr style=\"text-align: right;\">\n",
       "      <th></th>\n",
       "      <th>order_id</th>\n",
       "      <th>customer_id</th>\n",
       "      <th>Time_Delivery-Purchase</th>\n",
       "    </tr>\n",
       "  </thead>\n",
       "  <tbody>\n",
       "    <tr>\n",
       "      <th>0</th>\n",
       "      <td>e481f51cbdc54678b7cc49136f2d6af7</td>\n",
       "      <td>9ef432eb6251297304e76186b10a928d</td>\n",
       "      <td>8.0</td>\n",
       "    </tr>\n",
       "    <tr>\n",
       "      <th>1</th>\n",
       "      <td>53cdb2fc8bc7dce0b6741e2150273451</td>\n",
       "      <td>b0830fb4747a6c6d20dea0b8c802d7ef</td>\n",
       "      <td>13.0</td>\n",
       "    </tr>\n",
       "    <tr>\n",
       "      <th>2</th>\n",
       "      <td>47770eb9100c2d0c44946d9cf07ec65d</td>\n",
       "      <td>41ce2a54c0b03bf3443c3d931a367089</td>\n",
       "      <td>9.0</td>\n",
       "    </tr>\n",
       "    <tr>\n",
       "      <th>3</th>\n",
       "      <td>949d5b44dbf5de918fe9c16f97b45f8a</td>\n",
       "      <td>f88197465ea7920adcdbec7375364d82</td>\n",
       "      <td>13.0</td>\n",
       "    </tr>\n",
       "    <tr>\n",
       "      <th>4</th>\n",
       "      <td>ad21c59c0840e6cb83a9ceb5573f8159</td>\n",
       "      <td>8ab97904e6daea8866dbdbc4fb7aad2c</td>\n",
       "      <td>2.0</td>\n",
       "    </tr>\n",
       "  </tbody>\n",
       "</table>\n",
       "</div>"
      ],
      "text/plain": [
       "                           order_id                       customer_id  \\\n",
       "0  e481f51cbdc54678b7cc49136f2d6af7  9ef432eb6251297304e76186b10a928d   \n",
       "1  53cdb2fc8bc7dce0b6741e2150273451  b0830fb4747a6c6d20dea0b8c802d7ef   \n",
       "2  47770eb9100c2d0c44946d9cf07ec65d  41ce2a54c0b03bf3443c3d931a367089   \n",
       "3  949d5b44dbf5de918fe9c16f97b45f8a  f88197465ea7920adcdbec7375364d82   \n",
       "4  ad21c59c0840e6cb83a9ceb5573f8159  8ab97904e6daea8866dbdbc4fb7aad2c   \n",
       "\n",
       "   Time_Delivery-Purchase  \n",
       "0                     8.0  \n",
       "1                    13.0  \n",
       "2                     9.0  \n",
       "3                    13.0  \n",
       "4                     2.0  "
      ]
     },
     "execution_count": 31,
     "metadata": {},
     "output_type": "execute_result"
    }
   ],
   "source": [
    "order_info.head()"
   ]
  },
  {
   "cell_type": "markdown",
   "id": "57028c71",
   "metadata": {},
   "source": [
    "### Product Information Dataset"
   ]
  },
  {
   "cell_type": "code",
   "execution_count": 32,
   "id": "d914d16d",
   "metadata": {},
   "outputs": [
    {
     "data": {
      "text/html": [
       "<div>\n",
       "<style scoped>\n",
       "    .dataframe tbody tr th:only-of-type {\n",
       "        vertical-align: middle;\n",
       "    }\n",
       "\n",
       "    .dataframe tbody tr th {\n",
       "        vertical-align: top;\n",
       "    }\n",
       "\n",
       "    .dataframe thead th {\n",
       "        text-align: right;\n",
       "    }\n",
       "</style>\n",
       "<table border=\"1\" class=\"dataframe\">\n",
       "  <thead>\n",
       "    <tr style=\"text-align: right;\">\n",
       "      <th></th>\n",
       "      <th>product_id</th>\n",
       "      <th>product_category_name</th>\n",
       "      <th>product_name_lenght</th>\n",
       "      <th>product_description_lenght</th>\n",
       "      <th>product_photos_qty</th>\n",
       "      <th>product_weight_g</th>\n",
       "      <th>product_length_cm</th>\n",
       "      <th>product_height_cm</th>\n",
       "      <th>product_width_cm</th>\n",
       "    </tr>\n",
       "  </thead>\n",
       "  <tbody>\n",
       "    <tr>\n",
       "      <th>0</th>\n",
       "      <td>1e9e8ef04dbcff4541ed26657ea517e5</td>\n",
       "      <td>perfumaria</td>\n",
       "      <td>40.0</td>\n",
       "      <td>287.0</td>\n",
       "      <td>1.0</td>\n",
       "      <td>225.0</td>\n",
       "      <td>16.0</td>\n",
       "      <td>10.0</td>\n",
       "      <td>14.0</td>\n",
       "    </tr>\n",
       "    <tr>\n",
       "      <th>1</th>\n",
       "      <td>3aa071139cb16b67ca9e5dea641aaa2f</td>\n",
       "      <td>artes</td>\n",
       "      <td>44.0</td>\n",
       "      <td>276.0</td>\n",
       "      <td>1.0</td>\n",
       "      <td>1000.0</td>\n",
       "      <td>30.0</td>\n",
       "      <td>18.0</td>\n",
       "      <td>20.0</td>\n",
       "    </tr>\n",
       "    <tr>\n",
       "      <th>2</th>\n",
       "      <td>96bd76ec8810374ed1b65e291975717f</td>\n",
       "      <td>esporte_lazer</td>\n",
       "      <td>46.0</td>\n",
       "      <td>250.0</td>\n",
       "      <td>1.0</td>\n",
       "      <td>154.0</td>\n",
       "      <td>18.0</td>\n",
       "      <td>9.0</td>\n",
       "      <td>15.0</td>\n",
       "    </tr>\n",
       "    <tr>\n",
       "      <th>3</th>\n",
       "      <td>cef67bcfe19066a932b7673e239eb23d</td>\n",
       "      <td>bebes</td>\n",
       "      <td>27.0</td>\n",
       "      <td>261.0</td>\n",
       "      <td>1.0</td>\n",
       "      <td>371.0</td>\n",
       "      <td>26.0</td>\n",
       "      <td>4.0</td>\n",
       "      <td>26.0</td>\n",
       "    </tr>\n",
       "    <tr>\n",
       "      <th>4</th>\n",
       "      <td>9dc1a7de274444849c219cff195d0b71</td>\n",
       "      <td>utilidades_domesticas</td>\n",
       "      <td>37.0</td>\n",
       "      <td>402.0</td>\n",
       "      <td>4.0</td>\n",
       "      <td>625.0</td>\n",
       "      <td>20.0</td>\n",
       "      <td>17.0</td>\n",
       "      <td>13.0</td>\n",
       "    </tr>\n",
       "  </tbody>\n",
       "</table>\n",
       "</div>"
      ],
      "text/plain": [
       "                         product_id  product_category_name  \\\n",
       "0  1e9e8ef04dbcff4541ed26657ea517e5             perfumaria   \n",
       "1  3aa071139cb16b67ca9e5dea641aaa2f                  artes   \n",
       "2  96bd76ec8810374ed1b65e291975717f          esporte_lazer   \n",
       "3  cef67bcfe19066a932b7673e239eb23d                  bebes   \n",
       "4  9dc1a7de274444849c219cff195d0b71  utilidades_domesticas   \n",
       "\n",
       "   product_name_lenght  product_description_lenght  product_photos_qty  \\\n",
       "0                 40.0                       287.0                 1.0   \n",
       "1                 44.0                       276.0                 1.0   \n",
       "2                 46.0                       250.0                 1.0   \n",
       "3                 27.0                       261.0                 1.0   \n",
       "4                 37.0                       402.0                 4.0   \n",
       "\n",
       "   product_weight_g  product_length_cm  product_height_cm  product_width_cm  \n",
       "0             225.0               16.0               10.0              14.0  \n",
       "1            1000.0               30.0               18.0              20.0  \n",
       "2             154.0               18.0                9.0              15.0  \n",
       "3             371.0               26.0                4.0              26.0  \n",
       "4             625.0               20.0               17.0              13.0  "
      ]
     },
     "execution_count": 32,
     "metadata": {},
     "output_type": "execute_result"
    }
   ],
   "source": [
    "product_info.head()"
   ]
  },
  {
   "cell_type": "code",
   "execution_count": 34,
   "id": "b61269a3",
   "metadata": {},
   "outputs": [
    {
     "data": {
      "text/html": [
       "<div>\n",
       "<style scoped>\n",
       "    .dataframe tbody tr th:only-of-type {\n",
       "        vertical-align: middle;\n",
       "    }\n",
       "\n",
       "    .dataframe tbody tr th {\n",
       "        vertical-align: top;\n",
       "    }\n",
       "\n",
       "    .dataframe thead th {\n",
       "        text-align: right;\n",
       "    }\n",
       "</style>\n",
       "<table border=\"1\" class=\"dataframe\">\n",
       "  <thead>\n",
       "    <tr style=\"text-align: right;\">\n",
       "      <th></th>\n",
       "      <th>product_id</th>\n",
       "      <th>product_name_lenght</th>\n",
       "      <th>product_description_lenght</th>\n",
       "      <th>product_photos_qty</th>\n",
       "      <th>product_weight_g</th>\n",
       "    </tr>\n",
       "  </thead>\n",
       "  <tbody>\n",
       "    <tr>\n",
       "      <th>0</th>\n",
       "      <td>1e9e8ef04dbcff4541ed26657ea517e5</td>\n",
       "      <td>40.0</td>\n",
       "      <td>287.0</td>\n",
       "      <td>1.0</td>\n",
       "      <td>225.0</td>\n",
       "    </tr>\n",
       "    <tr>\n",
       "      <th>1</th>\n",
       "      <td>3aa071139cb16b67ca9e5dea641aaa2f</td>\n",
       "      <td>44.0</td>\n",
       "      <td>276.0</td>\n",
       "      <td>1.0</td>\n",
       "      <td>1000.0</td>\n",
       "    </tr>\n",
       "    <tr>\n",
       "      <th>2</th>\n",
       "      <td>96bd76ec8810374ed1b65e291975717f</td>\n",
       "      <td>46.0</td>\n",
       "      <td>250.0</td>\n",
       "      <td>1.0</td>\n",
       "      <td>154.0</td>\n",
       "    </tr>\n",
       "    <tr>\n",
       "      <th>3</th>\n",
       "      <td>cef67bcfe19066a932b7673e239eb23d</td>\n",
       "      <td>27.0</td>\n",
       "      <td>261.0</td>\n",
       "      <td>1.0</td>\n",
       "      <td>371.0</td>\n",
       "    </tr>\n",
       "    <tr>\n",
       "      <th>4</th>\n",
       "      <td>9dc1a7de274444849c219cff195d0b71</td>\n",
       "      <td>37.0</td>\n",
       "      <td>402.0</td>\n",
       "      <td>4.0</td>\n",
       "      <td>625.0</td>\n",
       "    </tr>\n",
       "  </tbody>\n",
       "</table>\n",
       "</div>"
      ],
      "text/plain": [
       "                         product_id  product_name_lenght  \\\n",
       "0  1e9e8ef04dbcff4541ed26657ea517e5                 40.0   \n",
       "1  3aa071139cb16b67ca9e5dea641aaa2f                 44.0   \n",
       "2  96bd76ec8810374ed1b65e291975717f                 46.0   \n",
       "3  cef67bcfe19066a932b7673e239eb23d                 27.0   \n",
       "4  9dc1a7de274444849c219cff195d0b71                 37.0   \n",
       "\n",
       "   product_description_lenght  product_photos_qty  product_weight_g  \n",
       "0                       287.0                 1.0             225.0  \n",
       "1                       276.0                 1.0            1000.0  \n",
       "2                       250.0                 1.0             154.0  \n",
       "3                       261.0                 1.0             371.0  \n",
       "4                       402.0                 4.0             625.0  "
      ]
     },
     "execution_count": 34,
     "metadata": {},
     "output_type": "execute_result"
    }
   ],
   "source": [
    "# Only description length and number of photos matter in this case when reviewing a product. \n",
    "# Possibly product weight and product name length maybe a factor when reviewing\n",
    "product_info.drop(columns=['product_category_name','product_length_cm', 'product_height_cm', \n",
    "                           'product_width_cm'], axis=1, inplace=True)\n",
    "\n",
    "product_info.head()"
   ]
  },
  {
   "cell_type": "markdown",
   "id": "8bda55aa",
   "metadata": {},
   "source": [
    "### Seller Info Dataset"
   ]
  },
  {
   "cell_type": "code",
   "execution_count": 35,
   "id": "f419d6de",
   "metadata": {},
   "outputs": [
    {
     "data": {
      "text/html": [
       "<div>\n",
       "<style scoped>\n",
       "    .dataframe tbody tr th:only-of-type {\n",
       "        vertical-align: middle;\n",
       "    }\n",
       "\n",
       "    .dataframe tbody tr th {\n",
       "        vertical-align: top;\n",
       "    }\n",
       "\n",
       "    .dataframe thead th {\n",
       "        text-align: right;\n",
       "    }\n",
       "</style>\n",
       "<table border=\"1\" class=\"dataframe\">\n",
       "  <thead>\n",
       "    <tr style=\"text-align: right;\">\n",
       "      <th></th>\n",
       "      <th>seller_id</th>\n",
       "      <th>seller_zip_code_prefix</th>\n",
       "      <th>seller_city</th>\n",
       "      <th>seller_state</th>\n",
       "    </tr>\n",
       "  </thead>\n",
       "  <tbody>\n",
       "    <tr>\n",
       "      <th>0</th>\n",
       "      <td>3442f8959a84dea7ee197c632cb2df15</td>\n",
       "      <td>13023</td>\n",
       "      <td>campinas</td>\n",
       "      <td>SP</td>\n",
       "    </tr>\n",
       "    <tr>\n",
       "      <th>1</th>\n",
       "      <td>d1b65fc7debc3361ea86b5f14c68d2e2</td>\n",
       "      <td>13844</td>\n",
       "      <td>mogi guacu</td>\n",
       "      <td>SP</td>\n",
       "    </tr>\n",
       "  </tbody>\n",
       "</table>\n",
       "</div>"
      ],
      "text/plain": [
       "                          seller_id  seller_zip_code_prefix seller_city  \\\n",
       "0  3442f8959a84dea7ee197c632cb2df15                   13023    campinas   \n",
       "1  d1b65fc7debc3361ea86b5f14c68d2e2                   13844  mogi guacu   \n",
       "\n",
       "  seller_state  \n",
       "0           SP  \n",
       "1           SP  "
      ]
     },
     "execution_count": 35,
     "metadata": {},
     "output_type": "execute_result"
    }
   ],
   "source": [
    "seller_info.head(2)"
   ]
  },
  {
   "cell_type": "code",
   "execution_count": 41,
   "id": "e9ad2d8b",
   "metadata": {},
   "outputs": [
    {
     "data": {
      "text/plain": [
       "23"
      ]
     },
     "execution_count": 41,
     "metadata": {},
     "output_type": "execute_result"
    }
   ],
   "source": [
    "len(seller_info['seller_state'].value_counts())"
   ]
  },
  {
   "cell_type": "code",
   "execution_count": 42,
   "id": "01515588",
   "metadata": {},
   "outputs": [],
   "source": [
    "seller_info.drop(columns=['seller_zip_code_prefix', 'seller_city'], axis=1, inplace=True)"
   ]
  },
  {
   "cell_type": "code",
   "execution_count": 44,
   "id": "822c7a1a",
   "metadata": {},
   "outputs": [
    {
     "data": {
      "text/html": [
       "<div>\n",
       "<style scoped>\n",
       "    .dataframe tbody tr th:only-of-type {\n",
       "        vertical-align: middle;\n",
       "    }\n",
       "\n",
       "    .dataframe tbody tr th {\n",
       "        vertical-align: top;\n",
       "    }\n",
       "\n",
       "    .dataframe thead th {\n",
       "        text-align: right;\n",
       "    }\n",
       "</style>\n",
       "<table border=\"1\" class=\"dataframe\">\n",
       "  <thead>\n",
       "    <tr style=\"text-align: right;\">\n",
       "      <th></th>\n",
       "      <th>seller_id</th>\n",
       "      <th>seller_state</th>\n",
       "    </tr>\n",
       "  </thead>\n",
       "  <tbody>\n",
       "    <tr>\n",
       "      <th>0</th>\n",
       "      <td>3442f8959a84dea7ee197c632cb2df15</td>\n",
       "      <td>SP</td>\n",
       "    </tr>\n",
       "    <tr>\n",
       "      <th>1</th>\n",
       "      <td>d1b65fc7debc3361ea86b5f14c68d2e2</td>\n",
       "      <td>SP</td>\n",
       "    </tr>\n",
       "  </tbody>\n",
       "</table>\n",
       "</div>"
      ],
      "text/plain": [
       "                          seller_id seller_state\n",
       "0  3442f8959a84dea7ee197c632cb2df15           SP\n",
       "1  d1b65fc7debc3361ea86b5f14c68d2e2           SP"
      ]
     },
     "execution_count": 44,
     "metadata": {},
     "output_type": "execute_result"
    }
   ],
   "source": [
    "seller_info.head(2)"
   ]
  },
  {
   "cell_type": "markdown",
   "id": "1fdbaec9",
   "metadata": {},
   "source": [
    "### Customers Dataset"
   ]
  },
  {
   "cell_type": "code",
   "execution_count": 45,
   "id": "38069494",
   "metadata": {},
   "outputs": [
    {
     "data": {
      "text/html": [
       "<div>\n",
       "<style scoped>\n",
       "    .dataframe tbody tr th:only-of-type {\n",
       "        vertical-align: middle;\n",
       "    }\n",
       "\n",
       "    .dataframe tbody tr th {\n",
       "        vertical-align: top;\n",
       "    }\n",
       "\n",
       "    .dataframe thead th {\n",
       "        text-align: right;\n",
       "    }\n",
       "</style>\n",
       "<table border=\"1\" class=\"dataframe\">\n",
       "  <thead>\n",
       "    <tr style=\"text-align: right;\">\n",
       "      <th></th>\n",
       "      <th>customer_id</th>\n",
       "      <th>customer_unique_id</th>\n",
       "      <th>customer_zip_code_prefix</th>\n",
       "      <th>customer_city</th>\n",
       "      <th>customer_state</th>\n",
       "    </tr>\n",
       "  </thead>\n",
       "  <tbody>\n",
       "    <tr>\n",
       "      <th>0</th>\n",
       "      <td>06b8999e2fba1a1fbc88172c00ba8bc7</td>\n",
       "      <td>861eff4711a542e4b93843c6dd7febb0</td>\n",
       "      <td>14409</td>\n",
       "      <td>franca</td>\n",
       "      <td>SP</td>\n",
       "    </tr>\n",
       "    <tr>\n",
       "      <th>1</th>\n",
       "      <td>18955e83d337fd6b2def6b18a428ac77</td>\n",
       "      <td>290c77bc529b7ac935b93aa66c333dc3</td>\n",
       "      <td>9790</td>\n",
       "      <td>sao bernardo do campo</td>\n",
       "      <td>SP</td>\n",
       "    </tr>\n",
       "  </tbody>\n",
       "</table>\n",
       "</div>"
      ],
      "text/plain": [
       "                        customer_id                customer_unique_id  \\\n",
       "0  06b8999e2fba1a1fbc88172c00ba8bc7  861eff4711a542e4b93843c6dd7febb0   \n",
       "1  18955e83d337fd6b2def6b18a428ac77  290c77bc529b7ac935b93aa66c333dc3   \n",
       "\n",
       "   customer_zip_code_prefix          customer_city customer_state  \n",
       "0                     14409                 franca             SP  \n",
       "1                      9790  sao bernardo do campo             SP  "
      ]
     },
     "execution_count": 45,
     "metadata": {},
     "output_type": "execute_result"
    }
   ],
   "source": [
    "customers_data.head(2)"
   ]
  },
  {
   "cell_type": "code",
   "execution_count": 47,
   "id": "f7459231",
   "metadata": {},
   "outputs": [],
   "source": [
    "customers_data.drop(columns=['customer_city', 'customer_zip_code_prefix'], inplace=True)"
   ]
  },
  {
   "cell_type": "code",
   "execution_count": 48,
   "id": "f97f7524",
   "metadata": {},
   "outputs": [
    {
     "data": {
      "text/html": [
       "<div>\n",
       "<style scoped>\n",
       "    .dataframe tbody tr th:only-of-type {\n",
       "        vertical-align: middle;\n",
       "    }\n",
       "\n",
       "    .dataframe tbody tr th {\n",
       "        vertical-align: top;\n",
       "    }\n",
       "\n",
       "    .dataframe thead th {\n",
       "        text-align: right;\n",
       "    }\n",
       "</style>\n",
       "<table border=\"1\" class=\"dataframe\">\n",
       "  <thead>\n",
       "    <tr style=\"text-align: right;\">\n",
       "      <th></th>\n",
       "      <th>customer_id</th>\n",
       "      <th>customer_unique_id</th>\n",
       "      <th>customer_state</th>\n",
       "    </tr>\n",
       "  </thead>\n",
       "  <tbody>\n",
       "    <tr>\n",
       "      <th>0</th>\n",
       "      <td>06b8999e2fba1a1fbc88172c00ba8bc7</td>\n",
       "      <td>861eff4711a542e4b93843c6dd7febb0</td>\n",
       "      <td>SP</td>\n",
       "    </tr>\n",
       "    <tr>\n",
       "      <th>1</th>\n",
       "      <td>18955e83d337fd6b2def6b18a428ac77</td>\n",
       "      <td>290c77bc529b7ac935b93aa66c333dc3</td>\n",
       "      <td>SP</td>\n",
       "    </tr>\n",
       "  </tbody>\n",
       "</table>\n",
       "</div>"
      ],
      "text/plain": [
       "                        customer_id                customer_unique_id  \\\n",
       "0  06b8999e2fba1a1fbc88172c00ba8bc7  861eff4711a542e4b93843c6dd7febb0   \n",
       "1  18955e83d337fd6b2def6b18a428ac77  290c77bc529b7ac935b93aa66c333dc3   \n",
       "\n",
       "  customer_state  \n",
       "0             SP  \n",
       "1             SP  "
      ]
     },
     "execution_count": 48,
     "metadata": {},
     "output_type": "execute_result"
    }
   ],
   "source": [
    "customers_data.head(2)"
   ]
  },
  {
   "cell_type": "markdown",
   "id": "e10080e9",
   "metadata": {},
   "source": [
    "### Order_reviews Dataset"
   ]
  },
  {
   "cell_type": "code",
   "execution_count": 51,
   "id": "dbd72cca",
   "metadata": {},
   "outputs": [
    {
     "data": {
      "text/html": [
       "<div>\n",
       "<style scoped>\n",
       "    .dataframe tbody tr th:only-of-type {\n",
       "        vertical-align: middle;\n",
       "    }\n",
       "\n",
       "    .dataframe tbody tr th {\n",
       "        vertical-align: top;\n",
       "    }\n",
       "\n",
       "    .dataframe thead th {\n",
       "        text-align: right;\n",
       "    }\n",
       "</style>\n",
       "<table border=\"1\" class=\"dataframe\">\n",
       "  <thead>\n",
       "    <tr style=\"text-align: right;\">\n",
       "      <th></th>\n",
       "      <th>review_id</th>\n",
       "      <th>order_id</th>\n",
       "      <th>review_score</th>\n",
       "      <th>review_comment_title</th>\n",
       "      <th>review_comment_message</th>\n",
       "      <th>review_creation_date</th>\n",
       "      <th>review_answer_timestamp</th>\n",
       "    </tr>\n",
       "  </thead>\n",
       "  <tbody>\n",
       "    <tr>\n",
       "      <th>0</th>\n",
       "      <td>97ca439bc427b48bc1cd7177abe71365</td>\n",
       "      <td>00010242fe8c5a6d1ba2dd792cb16214</td>\n",
       "      <td>5</td>\n",
       "      <td>NaN</td>\n",
       "      <td>Perfeito, produto entregue antes do combinado.</td>\n",
       "      <td>21/09/2017 00:00</td>\n",
       "      <td>22/09/2017 10:57</td>\n",
       "    </tr>\n",
       "    <tr>\n",
       "      <th>1</th>\n",
       "      <td>7b07bacd811c4117b742569b04ce3580</td>\n",
       "      <td>00018f77f2f0320c557190d7a144bdd3</td>\n",
       "      <td>4</td>\n",
       "      <td>NaN</td>\n",
       "      <td>NaN</td>\n",
       "      <td>13/05/2017 00:00</td>\n",
       "      <td>15/05/2017 11:34</td>\n",
       "    </tr>\n",
       "  </tbody>\n",
       "</table>\n",
       "</div>"
      ],
      "text/plain": [
       "                          review_id                          order_id  \\\n",
       "0  97ca439bc427b48bc1cd7177abe71365  00010242fe8c5a6d1ba2dd792cb16214   \n",
       "1  7b07bacd811c4117b742569b04ce3580  00018f77f2f0320c557190d7a144bdd3   \n",
       "\n",
       "   review_score review_comment_title  \\\n",
       "0             5                  NaN   \n",
       "1             4                  NaN   \n",
       "\n",
       "                           review_comment_message review_creation_date  \\\n",
       "0  Perfeito, produto entregue antes do combinado.     21/09/2017 00:00   \n",
       "1                                             NaN     13/05/2017 00:00   \n",
       "\n",
       "  review_answer_timestamp  \n",
       "0        22/09/2017 10:57  \n",
       "1        15/05/2017 11:34  "
      ]
     },
     "execution_count": 51,
     "metadata": {},
     "output_type": "execute_result"
    }
   ],
   "source": [
    "order_reviews.head(2)"
   ]
  },
  {
   "cell_type": "code",
   "execution_count": 49,
   "id": "1150eba1",
   "metadata": {},
   "outputs": [
    {
     "data": {
      "text/plain": [
       "<AxesSubplot:xlabel='review_score', ylabel='count'>"
      ]
     },
     "execution_count": 49,
     "metadata": {},
     "output_type": "execute_result"
    },
    {
     "data": {
      "image/png": "[encoded data removed]",
      "text/plain": [
       "<Figure size 432x288 with 1 Axes>"
      ]
     },
     "metadata": {},
     "output_type": "display_data"
    }
   ],
   "source": [
    "sns.countplot(x='review_score', data=order_reviews) # Huge class imbalance!"
   ]
  },
  {
   "cell_type": "markdown",
   "id": "03753ef9",
   "metadata": {},
   "source": [
    "#### Split into top reviews i.e. review score 5 and other reviews i.e. 1,2,3,4"
   ]
  },
  {
   "cell_type": "code",
   "execution_count": 54,
   "id": "572b24b3",
   "metadata": {},
   "outputs": [],
   "source": [
    "order_reviews['review_classification'] = np.where(order_reviews['review_score'] < 5, 'Normal Review', 'Top Review')"
   ]
  },
  {
   "cell_type": "code",
   "execution_count": 55,
   "id": "27c08025",
   "metadata": {},
   "outputs": [
    {
     "data": {
      "text/plain": [
       "<AxesSubplot:xlabel='review_classification', ylabel='count'>"
      ]
     },
     "execution_count": 55,
     "metadata": {},
     "output_type": "execute_result"
    },
    {
     "data": {
      "image/png": "[encoded data removed]",
      "text/plain": [
       "<Figure size 432x288 with 1 Axes>"
      ]
     },
     "metadata": {},
     "output_type": "display_data"
    }
   ],
   "source": [
    "sns.countplot(x='review_classification', data=order_reviews)"
   ]
  },
  {
   "cell_type": "code",
   "execution_count": 56,
   "id": "b3b2ca6d",
   "metadata": {},
   "outputs": [
    {
     "data": {
      "text/plain": [
       "Index(['review_id', 'order_id', 'review_score', 'review_comment_title',\n",
       "       'review_comment_message', 'review_creation_date',\n",
       "       'review_answer_timestamp', 'review_classification'],\n",
       "      dtype='object')"
      ]
     },
     "execution_count": 56,
     "metadata": {},
     "output_type": "execute_result"
    }
   ],
   "source": [
    "order_reviews.columns"
   ]
  },
  {
   "cell_type": "code",
   "execution_count": 58,
   "id": "4b0b32a2",
   "metadata": {},
   "outputs": [
    {
     "data": {
      "text/html": [
       "<div>\n",
       "<style scoped>\n",
       "    .dataframe tbody tr th:only-of-type {\n",
       "        vertical-align: middle;\n",
       "    }\n",
       "\n",
       "    .dataframe tbody tr th {\n",
       "        vertical-align: top;\n",
       "    }\n",
       "\n",
       "    .dataframe thead th {\n",
       "        text-align: right;\n",
       "    }\n",
       "</style>\n",
       "<table border=\"1\" class=\"dataframe\">\n",
       "  <thead>\n",
       "    <tr style=\"text-align: right;\">\n",
       "      <th></th>\n",
       "      <th>review_id</th>\n",
       "      <th>order_id</th>\n",
       "      <th>review_classification</th>\n",
       "    </tr>\n",
       "  </thead>\n",
       "  <tbody>\n",
       "    <tr>\n",
       "      <th>0</th>\n",
       "      <td>97ca439bc427b48bc1cd7177abe71365</td>\n",
       "      <td>00010242fe8c5a6d1ba2dd792cb16214</td>\n",
       "      <td>Top Review</td>\n",
       "    </tr>\n",
       "    <tr>\n",
       "      <th>1</th>\n",
       "      <td>7b07bacd811c4117b742569b04ce3580</td>\n",
       "      <td>00018f77f2f0320c557190d7a144bdd3</td>\n",
       "      <td>Normal Review</td>\n",
       "    </tr>\n",
       "    <tr>\n",
       "      <th>2</th>\n",
       "      <td>0c5b33dea94867d1ac402749e5438e8b</td>\n",
       "      <td>000229ec398224ef6ca0657da4fc703e</td>\n",
       "      <td>Top Review</td>\n",
       "    </tr>\n",
       "  </tbody>\n",
       "</table>\n",
       "</div>"
      ],
      "text/plain": [
       "                          review_id                          order_id  \\\n",
       "0  97ca439bc427b48bc1cd7177abe71365  00010242fe8c5a6d1ba2dd792cb16214   \n",
       "1  7b07bacd811c4117b742569b04ce3580  00018f77f2f0320c557190d7a144bdd3   \n",
       "2  0c5b33dea94867d1ac402749e5438e8b  000229ec398224ef6ca0657da4fc703e   \n",
       "\n",
       "  review_classification  \n",
       "0            Top Review  \n",
       "1         Normal Review  \n",
       "2            Top Review  "
      ]
     },
     "execution_count": 58,
     "metadata": {},
     "output_type": "execute_result"
    }
   ],
   "source": [
    "#Drop most of the columns in orders_review dataset\n",
    "order_reviews.drop(columns=['review_score', 'review_comment_title',\n",
    "       'review_comment_message', 'review_creation_date',\n",
    "       'review_answer_timestamp'], axis=1, inplace=True)\n",
    "\n",
    "order_reviews.head(3)"
   ]
  },
  {
   "attachments": {},
   "cell_type": "markdown",
   "id": "6e46fb57",
   "metadata": {},
   "source": [
    "With unique review ids, there can be duplicated order ids and product ids as one review can be regarding two products of the same order or reviews of the same product by multiple customers!"
   ]
  },
  {
   "cell_type": "code",
   "execution_count": 59,
   "id": "e9f543cb",
   "metadata": {},
   "outputs": [],
   "source": [
    "order_reviews.drop_duplicates(subset=['review_id'], inplace=True)"
   ]
  },
  {
   "cell_type": "code",
   "execution_count": 60,
   "id": "f10d6fa3",
   "metadata": {},
   "outputs": [
    {
     "name": "stdout",
     "output_type": "stream",
     "text": [
      "261\n",
      "0\n"
     ]
    }
   ],
   "source": [
    "print(order_reviews['order_id'].duplicated().sum())\n",
    "print(order_reviews['review_id'].duplicated().sum())"
   ]
  },
  {
   "cell_type": "code",
   "execution_count": 62,
   "id": "28c6560e",
   "metadata": {},
   "outputs": [
    {
     "data": {
      "text/plain": [
       "0"
      ]
     },
     "execution_count": 62,
     "metadata": {},
     "output_type": "execute_result"
    }
   ],
   "source": [
    "# Check null values for review id\n",
    "order_reviews['review_id'].isnull().sum()"
   ]
  },
  {
   "cell_type": "markdown",
   "id": "e03a057b",
   "metadata": {},
   "source": [
    "### Order info Dataset"
   ]
  },
  {
   "cell_type": "code",
   "execution_count": 63,
   "id": "eddcad96",
   "metadata": {},
   "outputs": [
    {
     "data": {
      "text/html": [
       "<div>\n",
       "<style scoped>\n",
       "    .dataframe tbody tr th:only-of-type {\n",
       "        vertical-align: middle;\n",
       "    }\n",
       "\n",
       "    .dataframe tbody tr th {\n",
       "        vertical-align: top;\n",
       "    }\n",
       "\n",
       "    .dataframe thead th {\n",
       "        text-align: right;\n",
       "    }\n",
       "</style>\n",
       "<table border=\"1\" class=\"dataframe\">\n",
       "  <thead>\n",
       "    <tr style=\"text-align: right;\">\n",
       "      <th></th>\n",
       "      <th>order_id</th>\n",
       "      <th>order_item_id</th>\n",
       "      <th>product_id</th>\n",
       "      <th>seller_id</th>\n",
       "      <th>shipping_limit_date</th>\n",
       "      <th>price</th>\n",
       "      <th>freight_value</th>\n",
       "    </tr>\n",
       "  </thead>\n",
       "  <tbody>\n",
       "    <tr>\n",
       "      <th>0</th>\n",
       "      <td>00010242fe8c5a6d1ba2dd792cb16214</td>\n",
       "      <td>1</td>\n",
       "      <td>4244733e06e7ecb4970a6e2683c13e61</td>\n",
       "      <td>48436dade18ac8b2bce089ec2a041202</td>\n",
       "      <td>2017-09-19 09:45:35</td>\n",
       "      <td>58.90</td>\n",
       "      <td>13.29</td>\n",
       "    </tr>\n",
       "    <tr>\n",
       "      <th>1</th>\n",
       "      <td>00018f77f2f0320c557190d7a144bdd3</td>\n",
       "      <td>1</td>\n",
       "      <td>e5f2d52b802189ee658865ca93d83a8f</td>\n",
       "      <td>dd7ddc04e1b6c2c614352b383efe2d36</td>\n",
       "      <td>2017-05-03 11:05:13</td>\n",
       "      <td>239.90</td>\n",
       "      <td>19.93</td>\n",
       "    </tr>\n",
       "    <tr>\n",
       "      <th>2</th>\n",
       "      <td>000229ec398224ef6ca0657da4fc703e</td>\n",
       "      <td>1</td>\n",
       "      <td>c777355d18b72b67abbeef9df44fd0fd</td>\n",
       "      <td>5b51032eddd242adc84c38acab88f23d</td>\n",
       "      <td>2018-01-18 14:48:30</td>\n",
       "      <td>199.00</td>\n",
       "      <td>17.87</td>\n",
       "    </tr>\n",
       "    <tr>\n",
       "      <th>3</th>\n",
       "      <td>00024acbcdf0a6daa1e931b038114c75</td>\n",
       "      <td>1</td>\n",
       "      <td>7634da152a4610f1595efa32f14722fc</td>\n",
       "      <td>9d7a1d34a5052409006425275ba1c2b4</td>\n",
       "      <td>2018-08-15 10:10:18</td>\n",
       "      <td>12.99</td>\n",
       "      <td>12.79</td>\n",
       "    </tr>\n",
       "    <tr>\n",
       "      <th>4</th>\n",
       "      <td>00042b26cf59d7ce69dfabb4e55b4fd9</td>\n",
       "      <td>1</td>\n",
       "      <td>ac6c3623068f30de03045865e4e10089</td>\n",
       "      <td>df560393f3a51e74553ab94004ba5c87</td>\n",
       "      <td>2017-02-13 13:57:51</td>\n",
       "      <td>199.90</td>\n",
       "      <td>18.14</td>\n",
       "    </tr>\n",
       "  </tbody>\n",
       "</table>\n",
       "</div>"
      ],
      "text/plain": [
       "                           order_id  order_item_id  \\\n",
       "0  00010242fe8c5a6d1ba2dd792cb16214              1   \n",
       "1  00018f77f2f0320c557190d7a144bdd3              1   \n",
       "2  000229ec398224ef6ca0657da4fc703e              1   \n",
       "3  00024acbcdf0a6daa1e931b038114c75              1   \n",
       "4  00042b26cf59d7ce69dfabb4e55b4fd9              1   \n",
       "\n",
       "                         product_id                         seller_id  \\\n",
       "0  4244733e06e7ecb4970a6e2683c13e61  48436dade18ac8b2bce089ec2a041202   \n",
       "1  e5f2d52b802189ee658865ca93d83a8f  dd7ddc04e1b6c2c614352b383efe2d36   \n",
       "2  c777355d18b72b67abbeef9df44fd0fd  5b51032eddd242adc84c38acab88f23d   \n",
       "3  7634da152a4610f1595efa32f14722fc  9d7a1d34a5052409006425275ba1c2b4   \n",
       "4  ac6c3623068f30de03045865e4e10089  df560393f3a51e74553ab94004ba5c87   \n",
       "\n",
       "   shipping_limit_date   price  freight_value  \n",
       "0  2017-09-19 09:45:35   58.90          13.29  \n",
       "1  2017-05-03 11:05:13  239.90          19.93  \n",
       "2  2018-01-18 14:48:30  199.00          17.87  \n",
       "3  2018-08-15 10:10:18   12.99          12.79  \n",
       "4  2017-02-13 13:57:51  199.90          18.14  "
      ]
     },
     "execution_count": 63,
     "metadata": {},
     "output_type": "execute_result"
    }
   ],
   "source": [
    "order_items_info.head()"
   ]
  },
  {
   "cell_type": "markdown",
   "id": "c3f621ff",
   "metadata": {},
   "source": [
    "## Merging Data"
   ]
  },
  {
   "attachments": {
    "image.png": {
     "image/png": "[encoded data removed]"
    }
   },
   "cell_type": "markdown",
   "id": "400d9d17",
   "metadata": {},
   "source": [
    "![image.png](attachment:image.png)"
   ]
  },
  {
   "cell_type": "markdown",
   "id": "1ac36d3a",
   "metadata": {},
   "source": [
    "#### Order info and reviews data merge"
   ]
  },
  {
   "cell_type": "code",
   "execution_count": 66,
   "id": "7dd3735e",
   "metadata": {},
   "outputs": [
    {
     "data": {
      "text/plain": [
       "(89322, 3)"
      ]
     },
     "execution_count": 66,
     "metadata": {},
     "output_type": "execute_result"
    }
   ],
   "source": [
    "order_reviews.shape"
   ]
  },
  {
   "cell_type": "code",
   "execution_count": 65,
   "id": "2385d5de",
   "metadata": {},
   "outputs": [
    {
     "name": "stdout",
     "output_type": "stream",
     "text": [
      "(89322, 5)\n"
     ]
    },
    {
     "data": {
      "text/html": [
       "<div>\n",
       "<style scoped>\n",
       "    .dataframe tbody tr th:only-of-type {\n",
       "        vertical-align: middle;\n",
       "    }\n",
       "\n",
       "    .dataframe tbody tr th {\n",
       "        vertical-align: top;\n",
       "    }\n",
       "\n",
       "    .dataframe thead th {\n",
       "        text-align: right;\n",
       "    }\n",
       "</style>\n",
       "<table border=\"1\" class=\"dataframe\">\n",
       "  <thead>\n",
       "    <tr style=\"text-align: right;\">\n",
       "      <th></th>\n",
       "      <th>order_id</th>\n",
       "      <th>customer_id</th>\n",
       "      <th>Time_Delivery-Purchase</th>\n",
       "      <th>review_id</th>\n",
       "      <th>review_classification</th>\n",
       "    </tr>\n",
       "  </thead>\n",
       "  <tbody>\n",
       "    <tr>\n",
       "      <th>0</th>\n",
       "      <td>e481f51cbdc54678b7cc49136f2d6af7</td>\n",
       "      <td>9ef432eb6251297304e76186b10a928d</td>\n",
       "      <td>8.0</td>\n",
       "      <td>a54f0611adc9ed256b57ede6b6eb5114</td>\n",
       "      <td>Normal Review</td>\n",
       "    </tr>\n",
       "    <tr>\n",
       "      <th>1</th>\n",
       "      <td>53cdb2fc8bc7dce0b6741e2150273451</td>\n",
       "      <td>b0830fb4747a6c6d20dea0b8c802d7ef</td>\n",
       "      <td>13.0</td>\n",
       "      <td>8d5266042046a06655c8db133d120ba5</td>\n",
       "      <td>Normal Review</td>\n",
       "    </tr>\n",
       "    <tr>\n",
       "      <th>2</th>\n",
       "      <td>47770eb9100c2d0c44946d9cf07ec65d</td>\n",
       "      <td>41ce2a54c0b03bf3443c3d931a367089</td>\n",
       "      <td>9.0</td>\n",
       "      <td>e73b67b67587f7644d5bd1a52deb1b01</td>\n",
       "      <td>Top Review</td>\n",
       "    </tr>\n",
       "    <tr>\n",
       "      <th>3</th>\n",
       "      <td>949d5b44dbf5de918fe9c16f97b45f8a</td>\n",
       "      <td>f88197465ea7920adcdbec7375364d82</td>\n",
       "      <td>13.0</td>\n",
       "      <td>359d03e676b3c069f62cadba8dd3f6e8</td>\n",
       "      <td>Top Review</td>\n",
       "    </tr>\n",
       "    <tr>\n",
       "      <th>4</th>\n",
       "      <td>ad21c59c0840e6cb83a9ceb5573f8159</td>\n",
       "      <td>8ab97904e6daea8866dbdbc4fb7aad2c</td>\n",
       "      <td>2.0</td>\n",
       "      <td>e50934924e227544ba8246aeb3770dd4</td>\n",
       "      <td>Top Review</td>\n",
       "    </tr>\n",
       "  </tbody>\n",
       "</table>\n",
       "</div>"
      ],
      "text/plain": [
       "                           order_id                       customer_id  \\\n",
       "0  e481f51cbdc54678b7cc49136f2d6af7  9ef432eb6251297304e76186b10a928d   \n",
       "1  53cdb2fc8bc7dce0b6741e2150273451  b0830fb4747a6c6d20dea0b8c802d7ef   \n",
       "2  47770eb9100c2d0c44946d9cf07ec65d  41ce2a54c0b03bf3443c3d931a367089   \n",
       "3  949d5b44dbf5de918fe9c16f97b45f8a  f88197465ea7920adcdbec7375364d82   \n",
       "4  ad21c59c0840e6cb83a9ceb5573f8159  8ab97904e6daea8866dbdbc4fb7aad2c   \n",
       "\n",
       "   Time_Delivery-Purchase                         review_id  \\\n",
       "0                     8.0  a54f0611adc9ed256b57ede6b6eb5114   \n",
       "1                    13.0  8d5266042046a06655c8db133d120ba5   \n",
       "2                     9.0  e73b67b67587f7644d5bd1a52deb1b01   \n",
       "3                    13.0  359d03e676b3c069f62cadba8dd3f6e8   \n",
       "4                     2.0  e50934924e227544ba8246aeb3770dd4   \n",
       "\n",
       "  review_classification  \n",
       "0         Normal Review  \n",
       "1         Normal Review  \n",
       "2            Top Review  \n",
       "3            Top Review  \n",
       "4            Top Review  "
      ]
     },
     "execution_count": 65,
     "metadata": {},
     "output_type": "execute_result"
    }
   ],
   "source": [
    "# Merging the order info (orders_dataset) dataset with the reviews dataset based on order id\n",
    "x1 = pd.merge(order_info, order_reviews, on='order_id', how='inner')\n",
    "print(x1.shape)\n",
    "x1.head()"
   ]
  },
  {
   "cell_type": "code",
   "execution_count": 69,
   "id": "8e1a4a4d",
   "metadata": {},
   "outputs": [
    {
     "name": "stdout",
     "output_type": "stream",
     "text": [
      "0\n",
      "0\n"
     ]
    }
   ],
   "source": [
    "# Check Duplicated\n",
    "print(x1.duplicated().sum())\n",
    "print(x1['review_id'].duplicated().sum())"
   ]
  },
  {
   "cell_type": "code",
   "execution_count": 76,
   "id": "32450e87",
   "metadata": {},
   "outputs": [
    {
     "data": {
      "text/plain": [
       "order_id                     0\n",
       "customer_id                  0\n",
       "Time_Delivery-Purchase    2623\n",
       "review_id                    0\n",
       "review_classification        0\n",
       "dtype: int64"
      ]
     },
     "execution_count": 76,
     "metadata": {},
     "output_type": "execute_result"
    }
   ],
   "source": [
    "x1.isna().sum()"
   ]
  },
  {
   "cell_type": "code",
   "execution_count": 77,
   "id": "dbf512de",
   "metadata": {},
   "outputs": [
    {
     "data": {
      "text/plain": [
       "order_id                  0\n",
       "customer_id               0\n",
       "Time_Delivery-Purchase    0\n",
       "review_id                 0\n",
       "review_classification     0\n",
       "dtype: int64"
      ]
     },
     "execution_count": 77,
     "metadata": {},
     "output_type": "execute_result"
    }
   ],
   "source": [
    "# Dropping all the null values\n",
    "x1.dropna(inplace=True)\n",
    "x1.isna().sum()"
   ]
  },
  {
   "cell_type": "markdown",
   "id": "2ddda500",
   "metadata": {},
   "source": [
    "#### Merging order info with customer dataset"
   ]
  },
  {
   "cell_type": "code",
   "execution_count": 79,
   "id": "31839d4e",
   "metadata": {},
   "outputs": [
    {
     "name": "stdout",
     "output_type": "stream",
     "text": [
      "0\n",
      "0\n",
      "customer_id               0\n",
      "customer_unique_id        0\n",
      "customer_state            0\n",
      "order_id                  0\n",
      "Time_Delivery-Purchase    0\n",
      "review_id                 0\n",
      "review_classification     0\n",
      "dtype: int64\n"
     ]
    }
   ],
   "source": [
    "# Merging the customer data on x1(previous merge) on customer id (inner join)\n",
    "x2 = pd.merge(customers_data, x1, on='customer_id', how='inner')\n",
    "print(x2.duplicated().sum())\n",
    "print(x2['review_id'].duplicated().sum())\n",
    "print(x2.isna().sum())"
   ]
  },
  {
   "cell_type": "code",
   "execution_count": 80,
   "id": "5df85a36",
   "metadata": {},
   "outputs": [
    {
     "data": {
      "text/html": [
       "<div>\n",
       "<style scoped>\n",
       "    .dataframe tbody tr th:only-of-type {\n",
       "        vertical-align: middle;\n",
       "    }\n",
       "\n",
       "    .dataframe tbody tr th {\n",
       "        vertical-align: top;\n",
       "    }\n",
       "\n",
       "    .dataframe thead th {\n",
       "        text-align: right;\n",
       "    }\n",
       "</style>\n",
       "<table border=\"1\" class=\"dataframe\">\n",
       "  <thead>\n",
       "    <tr style=\"text-align: right;\">\n",
       "      <th></th>\n",
       "      <th>customer_id</th>\n",
       "      <th>customer_unique_id</th>\n",
       "      <th>customer_state</th>\n",
       "      <th>order_id</th>\n",
       "      <th>Time_Delivery-Purchase</th>\n",
       "      <th>review_id</th>\n",
       "      <th>review_classification</th>\n",
       "    </tr>\n",
       "  </thead>\n",
       "  <tbody>\n",
       "    <tr>\n",
       "      <th>0</th>\n",
       "      <td>06b8999e2fba1a1fbc88172c00ba8bc7</td>\n",
       "      <td>861eff4711a542e4b93843c6dd7febb0</td>\n",
       "      <td>SP</td>\n",
       "      <td>00e7ee1b050b8499577073aeb2a297a1</td>\n",
       "      <td>8.0</td>\n",
       "      <td>88b8b52d46df026a9d1ad2136a59b30b</td>\n",
       "      <td>Normal Review</td>\n",
       "    </tr>\n",
       "    <tr>\n",
       "      <th>1</th>\n",
       "      <td>4e7b3e00288586ebd08712fdd0374a03</td>\n",
       "      <td>060e732b5b29e8181a18229c7b0b2b5e</td>\n",
       "      <td>SP</td>\n",
       "      <td>b2059ed67ce144a36e2aa97d2c9e9ad2</td>\n",
       "      <td>26.0</td>\n",
       "      <td>5ad6695d76ee186dc473c42706984d87</td>\n",
       "      <td>Top Review</td>\n",
       "    </tr>\n",
       "    <tr>\n",
       "      <th>2</th>\n",
       "      <td>b2b6027bc5c5109e529d4dc6358b12c3</td>\n",
       "      <td>259dac757896d24d7702b9acbbff3f3c</td>\n",
       "      <td>SP</td>\n",
       "      <td>951670f92359f4fe4a63112aa7306eba</td>\n",
       "      <td>14.0</td>\n",
       "      <td>059a801bb31f6aab2266e672cab87bc5</td>\n",
       "      <td>Top Review</td>\n",
       "    </tr>\n",
       "    <tr>\n",
       "      <th>3</th>\n",
       "      <td>4f2d8ab171c80ec8364f7c12e35b23ad</td>\n",
       "      <td>345ecd01c38d18a9036ed96c73b8d066</td>\n",
       "      <td>SP</td>\n",
       "      <td>6b7d50bd145f6fc7f33cebabd7e49d0f</td>\n",
       "      <td>11.0</td>\n",
       "      <td>8490879d58d6c5d7773f2739a03f089a</td>\n",
       "      <td>Top Review</td>\n",
       "    </tr>\n",
       "    <tr>\n",
       "      <th>4</th>\n",
       "      <td>879864dab9bc3047522c92c82e1212b8</td>\n",
       "      <td>4c93744516667ad3b8f1fb645a3116a4</td>\n",
       "      <td>SC</td>\n",
       "      <td>5741ea1f91b5fbab2bd2dc653a5b5099</td>\n",
       "      <td>13.0</td>\n",
       "      <td>9a6614162d285301aa3ef6de4be75265</td>\n",
       "      <td>Top Review</td>\n",
       "    </tr>\n",
       "  </tbody>\n",
       "</table>\n",
       "</div>"
      ],
      "text/plain": [
       "                        customer_id                customer_unique_id  \\\n",
       "0  06b8999e2fba1a1fbc88172c00ba8bc7  861eff4711a542e4b93843c6dd7febb0   \n",
       "1  4e7b3e00288586ebd08712fdd0374a03  060e732b5b29e8181a18229c7b0b2b5e   \n",
       "2  b2b6027bc5c5109e529d4dc6358b12c3  259dac757896d24d7702b9acbbff3f3c   \n",
       "3  4f2d8ab171c80ec8364f7c12e35b23ad  345ecd01c38d18a9036ed96c73b8d066   \n",
       "4  879864dab9bc3047522c92c82e1212b8  4c93744516667ad3b8f1fb645a3116a4   \n",
       "\n",
       "  customer_state                          order_id  Time_Delivery-Purchase  \\\n",
       "0             SP  00e7ee1b050b8499577073aeb2a297a1                     8.0   \n",
       "1             SP  b2059ed67ce144a36e2aa97d2c9e9ad2                    26.0   \n",
       "2             SP  951670f92359f4fe4a63112aa7306eba                    14.0   \n",
       "3             SP  6b7d50bd145f6fc7f33cebabd7e49d0f                    11.0   \n",
       "4             SC  5741ea1f91b5fbab2bd2dc653a5b5099                    13.0   \n",
       "\n",
       "                          review_id review_classification  \n",
       "0  88b8b52d46df026a9d1ad2136a59b30b         Normal Review  \n",
       "1  5ad6695d76ee186dc473c42706984d87            Top Review  \n",
       "2  059a801bb31f6aab2266e672cab87bc5            Top Review  \n",
       "3  8490879d58d6c5d7773f2739a03f089a            Top Review  \n",
       "4  9a6614162d285301aa3ef6de4be75265            Top Review  "
      ]
     },
     "execution_count": 80,
     "metadata": {},
     "output_type": "execute_result"
    }
   ],
   "source": [
    "x2.head()"
   ]
  },
  {
   "cell_type": "code",
   "execution_count": 81,
   "id": "0e20b091",
   "metadata": {},
   "outputs": [],
   "source": [
    "x2.drop(columns=['customer_state'], inplace=True)"
   ]
  },
  {
   "cell_type": "markdown",
   "id": "25c2f64f",
   "metadata": {},
   "source": [
    "#### Order payments merging with x2"
   ]
  },
  {
   "cell_type": "code",
   "execution_count": 82,
   "id": "b4220c9e",
   "metadata": {},
   "outputs": [
    {
     "name": "stdout",
     "output_type": "stream",
     "text": [
      "0\n",
      "3877\n",
      "order_id                  0\n",
      "payment_sequential        0\n",
      "payment_type              0\n",
      "payment_installments      0\n",
      "payment_value             0\n",
      "customer_id               0\n",
      "customer_unique_id        0\n",
      "Time_Delivery-Purchase    0\n",
      "review_id                 0\n",
      "review_classification     0\n",
      "dtype: int64\n"
     ]
    }
   ],
   "source": [
    "x3 = pd.merge(order_payments_info, x2, on='order_id', how='inner')\n",
    "print(x3.duplicated().sum())\n",
    "print(x3['review_id'].duplicated().sum())\n",
    "print(x3.isna().sum())"
   ]
  },
  {
   "cell_type": "code",
   "execution_count": 83,
   "id": "90e397b4",
   "metadata": {},
   "outputs": [
    {
     "name": "stdout",
     "output_type": "stream",
     "text": [
      "3877\n",
      "0\n"
     ]
    }
   ],
   "source": [
    "print(x3['review_id'].duplicated().sum())\n",
    "x3.drop_duplicates(subset=['review_id'], inplace=True)\n",
    "print(x3['review_id'].duplicated().sum())"
   ]
  },
  {
   "cell_type": "markdown",
   "id": "a201e7ac",
   "metadata": {},
   "source": [
    "### Order items on x3"
   ]
  },
  {
   "cell_type": "code",
   "execution_count": 84,
   "id": "43740a3d",
   "metadata": {},
   "outputs": [
    {
     "data": {
      "text/html": [
       "<div>\n",
       "<style scoped>\n",
       "    .dataframe tbody tr th:only-of-type {\n",
       "        vertical-align: middle;\n",
       "    }\n",
       "\n",
       "    .dataframe tbody tr th {\n",
       "        vertical-align: top;\n",
       "    }\n",
       "\n",
       "    .dataframe thead th {\n",
       "        text-align: right;\n",
       "    }\n",
       "</style>\n",
       "<table border=\"1\" class=\"dataframe\">\n",
       "  <thead>\n",
       "    <tr style=\"text-align: right;\">\n",
       "      <th></th>\n",
       "      <th>order_id</th>\n",
       "      <th>order_item_id</th>\n",
       "      <th>product_id</th>\n",
       "      <th>seller_id</th>\n",
       "      <th>shipping_limit_date</th>\n",
       "      <th>price</th>\n",
       "      <th>freight_value</th>\n",
       "      <th>payment_sequential</th>\n",
       "      <th>payment_type</th>\n",
       "      <th>payment_installments</th>\n",
       "      <th>payment_value</th>\n",
       "      <th>customer_id</th>\n",
       "      <th>customer_unique_id</th>\n",
       "      <th>Time_Delivery-Purchase</th>\n",
       "      <th>review_id</th>\n",
       "      <th>review_classification</th>\n",
       "    </tr>\n",
       "  </thead>\n",
       "  <tbody>\n",
       "    <tr>\n",
       "      <th>0</th>\n",
       "      <td>00010242fe8c5a6d1ba2dd792cb16214</td>\n",
       "      <td>1</td>\n",
       "      <td>4244733e06e7ecb4970a6e2683c13e61</td>\n",
       "      <td>48436dade18ac8b2bce089ec2a041202</td>\n",
       "      <td>2017-09-19 09:45:35</td>\n",
       "      <td>58.90</td>\n",
       "      <td>13.29</td>\n",
       "      <td>1</td>\n",
       "      <td>credit_card</td>\n",
       "      <td>2</td>\n",
       "      <td>72.19</td>\n",
       "      <td>3ce436f183e68e07877b285a838db11a</td>\n",
       "      <td>871766c5855e863f6eccc05f988b23cb</td>\n",
       "      <td>7.0</td>\n",
       "      <td>97ca439bc427b48bc1cd7177abe71365</td>\n",
       "      <td>Top Review</td>\n",
       "    </tr>\n",
       "    <tr>\n",
       "      <th>1</th>\n",
       "      <td>00018f77f2f0320c557190d7a144bdd3</td>\n",
       "      <td>1</td>\n",
       "      <td>e5f2d52b802189ee658865ca93d83a8f</td>\n",
       "      <td>dd7ddc04e1b6c2c614352b383efe2d36</td>\n",
       "      <td>2017-05-03 11:05:13</td>\n",
       "      <td>239.90</td>\n",
       "      <td>19.93</td>\n",
       "      <td>1</td>\n",
       "      <td>credit_card</td>\n",
       "      <td>3</td>\n",
       "      <td>259.83</td>\n",
       "      <td>f6dd3ec061db4e3987629fe6b26e5cce</td>\n",
       "      <td>eb28e67c4c0b83846050ddfb8a35d051</td>\n",
       "      <td>16.0</td>\n",
       "      <td>7b07bacd811c4117b742569b04ce3580</td>\n",
       "      <td>Normal Review</td>\n",
       "    </tr>\n",
       "    <tr>\n",
       "      <th>2</th>\n",
       "      <td>000229ec398224ef6ca0657da4fc703e</td>\n",
       "      <td>1</td>\n",
       "      <td>c777355d18b72b67abbeef9df44fd0fd</td>\n",
       "      <td>5b51032eddd242adc84c38acab88f23d</td>\n",
       "      <td>2018-01-18 14:48:30</td>\n",
       "      <td>199.00</td>\n",
       "      <td>17.87</td>\n",
       "      <td>1</td>\n",
       "      <td>credit_card</td>\n",
       "      <td>5</td>\n",
       "      <td>216.87</td>\n",
       "      <td>6489ae5e4333f3693df5ad4372dab6d3</td>\n",
       "      <td>3818d81c6709e39d06b2738a8d3a2474</td>\n",
       "      <td>7.0</td>\n",
       "      <td>0c5b33dea94867d1ac402749e5438e8b</td>\n",
       "      <td>Top Review</td>\n",
       "    </tr>\n",
       "    <tr>\n",
       "      <th>3</th>\n",
       "      <td>00024acbcdf0a6daa1e931b038114c75</td>\n",
       "      <td>1</td>\n",
       "      <td>7634da152a4610f1595efa32f14722fc</td>\n",
       "      <td>9d7a1d34a5052409006425275ba1c2b4</td>\n",
       "      <td>2018-08-15 10:10:18</td>\n",
       "      <td>12.99</td>\n",
       "      <td>12.79</td>\n",
       "      <td>1</td>\n",
       "      <td>credit_card</td>\n",
       "      <td>2</td>\n",
       "      <td>25.78</td>\n",
       "      <td>d4eb9395c8c0431ee92fce09860c5a06</td>\n",
       "      <td>af861d436cfc08b2c2ddefd0ba074622</td>\n",
       "      <td>6.0</td>\n",
       "      <td>f4028d019cb58564807486a6aaf33817</td>\n",
       "      <td>Normal Review</td>\n",
       "    </tr>\n",
       "    <tr>\n",
       "      <th>4</th>\n",
       "      <td>00042b26cf59d7ce69dfabb4e55b4fd9</td>\n",
       "      <td>1</td>\n",
       "      <td>ac6c3623068f30de03045865e4e10089</td>\n",
       "      <td>df560393f3a51e74553ab94004ba5c87</td>\n",
       "      <td>2017-02-13 13:57:51</td>\n",
       "      <td>199.90</td>\n",
       "      <td>18.14</td>\n",
       "      <td>1</td>\n",
       "      <td>credit_card</td>\n",
       "      <td>3</td>\n",
       "      <td>218.04</td>\n",
       "      <td>58dbd0b2d70206bf40e62cd34e84d795</td>\n",
       "      <td>64b576fb70d441e8f1b2d7d446e483c5</td>\n",
       "      <td>25.0</td>\n",
       "      <td>940144190dcba6351888cafa43f3a3a5</td>\n",
       "      <td>Top Review</td>\n",
       "    </tr>\n",
       "  </tbody>\n",
       "</table>\n",
       "</div>"
      ],
      "text/plain": [
       "                           order_id  order_item_id  \\\n",
       "0  00010242fe8c5a6d1ba2dd792cb16214              1   \n",
       "1  00018f77f2f0320c557190d7a144bdd3              1   \n",
       "2  000229ec398224ef6ca0657da4fc703e              1   \n",
       "3  00024acbcdf0a6daa1e931b038114c75              1   \n",
       "4  00042b26cf59d7ce69dfabb4e55b4fd9              1   \n",
       "\n",
       "                         product_id                         seller_id  \\\n",
       "0  4244733e06e7ecb4970a6e2683c13e61  48436dade18ac8b2bce089ec2a041202   \n",
       "1  e5f2d52b802189ee658865ca93d83a8f  dd7ddc04e1b6c2c614352b383efe2d36   \n",
       "2  c777355d18b72b67abbeef9df44fd0fd  5b51032eddd242adc84c38acab88f23d   \n",
       "3  7634da152a4610f1595efa32f14722fc  9d7a1d34a5052409006425275ba1c2b4   \n",
       "4  ac6c3623068f30de03045865e4e10089  df560393f3a51e74553ab94004ba5c87   \n",
       "\n",
       "   shipping_limit_date   price  freight_value  payment_sequential  \\\n",
       "0  2017-09-19 09:45:35   58.90          13.29                   1   \n",
       "1  2017-05-03 11:05:13  239.90          19.93                   1   \n",
       "2  2018-01-18 14:48:30  199.00          17.87                   1   \n",
       "3  2018-08-15 10:10:18   12.99          12.79                   1   \n",
       "4  2017-02-13 13:57:51  199.90          18.14                   1   \n",
       "\n",
       "  payment_type  payment_installments  payment_value  \\\n",
       "0  credit_card                     2          72.19   \n",
       "1  credit_card                     3         259.83   \n",
       "2  credit_card                     5         216.87   \n",
       "3  credit_card                     2          25.78   \n",
       "4  credit_card                     3         218.04   \n",
       "\n",
       "                        customer_id                customer_unique_id  \\\n",
       "0  3ce436f183e68e07877b285a838db11a  871766c5855e863f6eccc05f988b23cb   \n",
       "1  f6dd3ec061db4e3987629fe6b26e5cce  eb28e67c4c0b83846050ddfb8a35d051   \n",
       "2  6489ae5e4333f3693df5ad4372dab6d3  3818d81c6709e39d06b2738a8d3a2474   \n",
       "3  d4eb9395c8c0431ee92fce09860c5a06  af861d436cfc08b2c2ddefd0ba074622   \n",
       "4  58dbd0b2d70206bf40e62cd34e84d795  64b576fb70d441e8f1b2d7d446e483c5   \n",
       "\n",
       "   Time_Delivery-Purchase                         review_id  \\\n",
       "0                     7.0  97ca439bc427b48bc1cd7177abe71365   \n",
       "1                    16.0  7b07bacd811c4117b742569b04ce3580   \n",
       "2                     7.0  0c5b33dea94867d1ac402749e5438e8b   \n",
       "3                     6.0  f4028d019cb58564807486a6aaf33817   \n",
       "4                    25.0  940144190dcba6351888cafa43f3a3a5   \n",
       "\n",
       "  review_classification  \n",
       "0            Top Review  \n",
       "1         Normal Review  \n",
       "2            Top Review  \n",
       "3         Normal Review  \n",
       "4            Top Review  "
      ]
     },
     "execution_count": 84,
     "metadata": {},
     "output_type": "execute_result"
    }
   ],
   "source": [
    "x4 = pd.merge(order_items_info, x3, on='order_id', how='inner')\n",
    "x4.head()"
   ]
  },
  {
   "cell_type": "code",
   "execution_count": 85,
   "id": "d86a8eda",
   "metadata": {},
   "outputs": [
    {
     "name": "stdout",
     "output_type": "stream",
     "text": [
      "0\n",
      "12424\n",
      "order_id                  0\n",
      "order_item_id             0\n",
      "product_id                0\n",
      "seller_id                 0\n",
      "shipping_limit_date       0\n",
      "price                     0\n",
      "freight_value             0\n",
      "payment_sequential        0\n",
      "payment_type              0\n",
      "payment_installments      0\n",
      "payment_value             0\n",
      "customer_id               0\n",
      "customer_unique_id        0\n",
      "Time_Delivery-Purchase    0\n",
      "review_id                 0\n",
      "review_classification     0\n",
      "dtype: int64\n"
     ]
    }
   ],
   "source": [
    "print(x4.duplicated().sum())\n",
    "print(x4['review_id'].duplicated().sum())\n",
    "print(x4.isna().sum())"
   ]
  },
  {
   "cell_type": "code",
   "execution_count": 87,
   "id": "0527215e",
   "metadata": {},
   "outputs": [],
   "source": [
    "x4.drop_duplicates(subset=['review_id'], inplace=True)"
   ]
  },
  {
   "cell_type": "code",
   "execution_count": 88,
   "id": "2c9d401b",
   "metadata": {},
   "outputs": [
    {
     "data": {
      "text/plain": [
       "(86698, 16)"
      ]
     },
     "execution_count": 88,
     "metadata": {},
     "output_type": "execute_result"
    }
   ],
   "source": [
    "x4.shape"
   ]
  },
  {
   "cell_type": "markdown",
   "id": "508c7ec8",
   "metadata": {},
   "source": [
    "### Product info on x4"
   ]
  },
  {
   "cell_type": "code",
   "execution_count": 89,
   "id": "3304bfe9",
   "metadata": {},
   "outputs": [
    {
     "data": {
      "text/html": [
       "<div>\n",
       "<style scoped>\n",
       "    .dataframe tbody tr th:only-of-type {\n",
       "        vertical-align: middle;\n",
       "    }\n",
       "\n",
       "    .dataframe tbody tr th {\n",
       "        vertical-align: top;\n",
       "    }\n",
       "\n",
       "    .dataframe thead th {\n",
       "        text-align: right;\n",
       "    }\n",
       "</style>\n",
       "<table border=\"1\" class=\"dataframe\">\n",
       "  <thead>\n",
       "    <tr style=\"text-align: right;\">\n",
       "      <th></th>\n",
       "      <th>product_id</th>\n",
       "      <th>product_name_lenght</th>\n",
       "      <th>product_description_lenght</th>\n",
       "      <th>product_photos_qty</th>\n",
       "      <th>product_weight_g</th>\n",
       "      <th>order_id</th>\n",
       "      <th>order_item_id</th>\n",
       "      <th>seller_id</th>\n",
       "      <th>shipping_limit_date</th>\n",
       "      <th>price</th>\n",
       "      <th>freight_value</th>\n",
       "      <th>payment_sequential</th>\n",
       "      <th>payment_type</th>\n",
       "      <th>payment_installments</th>\n",
       "      <th>payment_value</th>\n",
       "      <th>customer_id</th>\n",
       "      <th>customer_unique_id</th>\n",
       "      <th>Time_Delivery-Purchase</th>\n",
       "      <th>review_id</th>\n",
       "      <th>review_classification</th>\n",
       "    </tr>\n",
       "  </thead>\n",
       "  <tbody>\n",
       "    <tr>\n",
       "      <th>0</th>\n",
       "      <td>1e9e8ef04dbcff4541ed26657ea517e5</td>\n",
       "      <td>40.0</td>\n",
       "      <td>287.0</td>\n",
       "      <td>1.0</td>\n",
       "      <td>225.0</td>\n",
       "      <td>e17e4f88e31525f7deef66779844ddce</td>\n",
       "      <td>1</td>\n",
       "      <td>5670f4db5b62c43d542e1b2d56b0cf7c</td>\n",
       "      <td>2018-04-30 17:33:54</td>\n",
       "      <td>10.91</td>\n",
       "      <td>7.39</td>\n",
       "      <td>1</td>\n",
       "      <td>debit_card</td>\n",
       "      <td>1</td>\n",
       "      <td>18.30</td>\n",
       "      <td>f8a3e963a310aa58b60a5b1fed5bceb5</td>\n",
       "      <td>b1a1199364a4a7fe27c4486ab63f550d</td>\n",
       "      <td>3.0</td>\n",
       "      <td>d71da8fd8c6e3adef26be965f065b8a1</td>\n",
       "      <td>Top Review</td>\n",
       "    </tr>\n",
       "    <tr>\n",
       "      <th>1</th>\n",
       "      <td>3aa071139cb16b67ca9e5dea641aaa2f</td>\n",
       "      <td>44.0</td>\n",
       "      <td>276.0</td>\n",
       "      <td>1.0</td>\n",
       "      <td>1000.0</td>\n",
       "      <td>5236307716393b7114b53ee991f36956</td>\n",
       "      <td>1</td>\n",
       "      <td>b561927807645834b59ef0d16ba55a24</td>\n",
       "      <td>2018-02-06 19:11:15</td>\n",
       "      <td>248.00</td>\n",
       "      <td>17.99</td>\n",
       "      <td>1</td>\n",
       "      <td>voucher</td>\n",
       "      <td>1</td>\n",
       "      <td>265.99</td>\n",
       "      <td>03fc97548af8f58fefc768d12b546c9c</td>\n",
       "      <td>4b86049cb99e4aa774031daa9cd18f18</td>\n",
       "      <td>15.0</td>\n",
       "      <td>19866247db89845ef558ef19a6c26fcd</td>\n",
       "      <td>Top Review</td>\n",
       "    </tr>\n",
       "    <tr>\n",
       "      <th>2</th>\n",
       "      <td>96bd76ec8810374ed1b65e291975717f</td>\n",
       "      <td>46.0</td>\n",
       "      <td>250.0</td>\n",
       "      <td>1.0</td>\n",
       "      <td>154.0</td>\n",
       "      <td>01f66e58769f84129811d43eefd187fb</td>\n",
       "      <td>1</td>\n",
       "      <td>7b07b3c7487f0ea825fc6df75abd658b</td>\n",
       "      <td>2018-07-11 21:30:20</td>\n",
       "      <td>79.80</td>\n",
       "      <td>7.82</td>\n",
       "      <td>1</td>\n",
       "      <td>credit_card</td>\n",
       "      <td>1</td>\n",
       "      <td>87.62</td>\n",
       "      <td>e41819d1c95c12c9ce495b630eab8aee</td>\n",
       "      <td>f63805d9c7edb84d92413af34b86a39c</td>\n",
       "      <td>2.0</td>\n",
       "      <td>32921b4e09c9a19d61fe46ce04231b84</td>\n",
       "      <td>Top Review</td>\n",
       "    </tr>\n",
       "    <tr>\n",
       "      <th>3</th>\n",
       "      <td>cef67bcfe19066a932b7673e239eb23d</td>\n",
       "      <td>27.0</td>\n",
       "      <td>261.0</td>\n",
       "      <td>1.0</td>\n",
       "      <td>371.0</td>\n",
       "      <td>143d00a4f2dde4e0364ee1821577adb3</td>\n",
       "      <td>1</td>\n",
       "      <td>c510bc1718f0f2961eaa42a23330681a</td>\n",
       "      <td>2018-08-07 09:10:13</td>\n",
       "      <td>112.30</td>\n",
       "      <td>9.54</td>\n",
       "      <td>1</td>\n",
       "      <td>credit_card</td>\n",
       "      <td>2</td>\n",
       "      <td>121.84</td>\n",
       "      <td>322162b5ca010c2b059cb5224dd818b1</td>\n",
       "      <td>619e926d09b26efbd5180368b1ddc874</td>\n",
       "      <td>3.0</td>\n",
       "      <td>70949d129965fb1ee32aaccec720a19e</td>\n",
       "      <td>Normal Review</td>\n",
       "    </tr>\n",
       "    <tr>\n",
       "      <th>4</th>\n",
       "      <td>9dc1a7de274444849c219cff195d0b71</td>\n",
       "      <td>37.0</td>\n",
       "      <td>402.0</td>\n",
       "      <td>4.0</td>\n",
       "      <td>625.0</td>\n",
       "      <td>86cafb8794cb99a9b1b77fc8e48fbbbb</td>\n",
       "      <td>1</td>\n",
       "      <td>0be8ff43f22e456b4e0371b2245e4d01</td>\n",
       "      <td>2018-04-17 01:30:23</td>\n",
       "      <td>37.90</td>\n",
       "      <td>8.29</td>\n",
       "      <td>1</td>\n",
       "      <td>credit_card</td>\n",
       "      <td>4</td>\n",
       "      <td>46.19</td>\n",
       "      <td>c11c31965ff02cc1d7132df8edfcbc22</td>\n",
       "      <td>ad353b4fb0e294adc4eda48af73e68a6</td>\n",
       "      <td>2.0</td>\n",
       "      <td>74c9c7d0bc153bbbc92e4c1597b8ba55</td>\n",
       "      <td>Top Review</td>\n",
       "    </tr>\n",
       "  </tbody>\n",
       "</table>\n",
       "</div>"
      ],
      "text/plain": [
       "                         product_id  product_name_lenght  \\\n",
       "0  1e9e8ef04dbcff4541ed26657ea517e5                 40.0   \n",
       "1  3aa071139cb16b67ca9e5dea641aaa2f                 44.0   \n",
       "2  96bd76ec8810374ed1b65e291975717f                 46.0   \n",
       "3  cef67bcfe19066a932b7673e239eb23d                 27.0   \n",
       "4  9dc1a7de274444849c219cff195d0b71                 37.0   \n",
       "\n",
       "   product_description_lenght  product_photos_qty  product_weight_g  \\\n",
       "0                       287.0                 1.0             225.0   \n",
       "1                       276.0                 1.0            1000.0   \n",
       "2                       250.0                 1.0             154.0   \n",
       "3                       261.0                 1.0             371.0   \n",
       "4                       402.0                 4.0             625.0   \n",
       "\n",
       "                           order_id  order_item_id  \\\n",
       "0  e17e4f88e31525f7deef66779844ddce              1   \n",
       "1  5236307716393b7114b53ee991f36956              1   \n",
       "2  01f66e58769f84129811d43eefd187fb              1   \n",
       "3  143d00a4f2dde4e0364ee1821577adb3              1   \n",
       "4  86cafb8794cb99a9b1b77fc8e48fbbbb              1   \n",
       "\n",
       "                          seller_id  shipping_limit_date   price  \\\n",
       "0  5670f4db5b62c43d542e1b2d56b0cf7c  2018-04-30 17:33:54   10.91   \n",
       "1  b561927807645834b59ef0d16ba55a24  2018-02-06 19:11:15  248.00   \n",
       "2  7b07b3c7487f0ea825fc6df75abd658b  2018-07-11 21:30:20   79.80   \n",
       "3  c510bc1718f0f2961eaa42a23330681a  2018-08-07 09:10:13  112.30   \n",
       "4  0be8ff43f22e456b4e0371b2245e4d01  2018-04-17 01:30:23   37.90   \n",
       "\n",
       "   freight_value  payment_sequential payment_type  payment_installments  \\\n",
       "0           7.39                   1   debit_card                     1   \n",
       "1          17.99                   1      voucher                     1   \n",
       "2           7.82                   1  credit_card                     1   \n",
       "3           9.54                   1  credit_card                     2   \n",
       "4           8.29                   1  credit_card                     4   \n",
       "\n",
       "   payment_value                       customer_id  \\\n",
       "0          18.30  f8a3e963a310aa58b60a5b1fed5bceb5   \n",
       "1         265.99  03fc97548af8f58fefc768d12b546c9c   \n",
       "2          87.62  e41819d1c95c12c9ce495b630eab8aee   \n",
       "3         121.84  322162b5ca010c2b059cb5224dd818b1   \n",
       "4          46.19  c11c31965ff02cc1d7132df8edfcbc22   \n",
       "\n",
       "                 customer_unique_id  Time_Delivery-Purchase  \\\n",
       "0  b1a1199364a4a7fe27c4486ab63f550d                     3.0   \n",
       "1  4b86049cb99e4aa774031daa9cd18f18                    15.0   \n",
       "2  f63805d9c7edb84d92413af34b86a39c                     2.0   \n",
       "3  619e926d09b26efbd5180368b1ddc874                     3.0   \n",
       "4  ad353b4fb0e294adc4eda48af73e68a6                     2.0   \n",
       "\n",
       "                          review_id review_classification  \n",
       "0  d71da8fd8c6e3adef26be965f065b8a1            Top Review  \n",
       "1  19866247db89845ef558ef19a6c26fcd            Top Review  \n",
       "2  32921b4e09c9a19d61fe46ce04231b84            Top Review  \n",
       "3  70949d129965fb1ee32aaccec720a19e         Normal Review  \n",
       "4  74c9c7d0bc153bbbc92e4c1597b8ba55            Top Review  "
      ]
     },
     "execution_count": 89,
     "metadata": {},
     "output_type": "execute_result"
    }
   ],
   "source": [
    "x5 = pd.merge(product_info, x4, on='product_id', how='inner') # merging on product id \n",
    "x5.head()"
   ]
  },
  {
   "cell_type": "code",
   "execution_count": 94,
   "id": "03311de2",
   "metadata": {
    "scrolled": true
   },
   "outputs": [
    {
     "name": "stdout",
     "output_type": "stream",
     "text": [
      "0\n",
      "0\n",
      "product_id                       0\n",
      "product_name_lenght           1225\n",
      "product_description_lenght    1225\n",
      "product_photos_qty            1225\n",
      "product_weight_g                16\n",
      "order_id                         0\n",
      "order_item_id                    0\n",
      "seller_id                        0\n",
      "shipping_limit_date              0\n",
      "price                            0\n",
      "freight_value                    0\n",
      "payment_sequential               0\n",
      "payment_type                     0\n",
      "payment_installments             0\n",
      "payment_value                    0\n",
      "customer_id                      0\n",
      "customer_unique_id               0\n",
      "Time_Delivery-Purchase           0\n",
      "review_id                        0\n",
      "review_classification            0\n",
      "dtype: int64\n",
      "product_id                    0\n",
      "product_name_lenght           0\n",
      "product_description_lenght    0\n",
      "product_photos_qty            0\n",
      "product_weight_g              0\n",
      "order_id                      0\n",
      "order_item_id                 0\n",
      "seller_id                     0\n",
      "shipping_limit_date           0\n",
      "price                         0\n",
      "freight_value                 0\n",
      "payment_sequential            0\n",
      "payment_type                  0\n",
      "payment_installments          0\n",
      "payment_value                 0\n",
      "customer_id                   0\n",
      "customer_unique_id            0\n",
      "Time_Delivery-Purchase        0\n",
      "review_id                     0\n",
      "review_classification         0\n",
      "dtype: int64\n"
     ]
    }
   ],
   "source": [
    "print(x5.duplicated().sum())\n",
    "print(x5['review_id'].duplicated().sum())\n",
    "print(x5.isna().sum())\n",
    "x5.dropna(inplace=True)\n",
    "print(x5.isna().sum())"
   ]
  },
  {
   "cell_type": "code",
   "execution_count": 95,
   "id": "457a8bef",
   "metadata": {},
   "outputs": [
    {
     "data": {
      "text/plain": [
       "(85472, 20)"
      ]
     },
     "execution_count": 95,
     "metadata": {},
     "output_type": "execute_result"
    }
   ],
   "source": [
    "x5.shape"
   ]
  },
  {
   "cell_type": "markdown",
   "id": "26a8da7d",
   "metadata": {},
   "source": [
    "### Seller information on x5"
   ]
  },
  {
   "cell_type": "code",
   "execution_count": 96,
   "id": "b440313a",
   "metadata": {},
   "outputs": [],
   "source": [
    "# Unique review ids but duplicate product and seller ids is fine "
   ]
  },
  {
   "cell_type": "code",
   "execution_count": 97,
   "id": "0aa3fd1d",
   "metadata": {},
   "outputs": [
    {
     "name": "stdout",
     "output_type": "stream",
     "text": [
      "(85472, 21)\n"
     ]
    },
    {
     "data": {
      "text/html": [
       "<div>\n",
       "<style scoped>\n",
       "    .dataframe tbody tr th:only-of-type {\n",
       "        vertical-align: middle;\n",
       "    }\n",
       "\n",
       "    .dataframe tbody tr th {\n",
       "        vertical-align: top;\n",
       "    }\n",
       "\n",
       "    .dataframe thead th {\n",
       "        text-align: right;\n",
       "    }\n",
       "</style>\n",
       "<table border=\"1\" class=\"dataframe\">\n",
       "  <thead>\n",
       "    <tr style=\"text-align: right;\">\n",
       "      <th></th>\n",
       "      <th>seller_id</th>\n",
       "      <th>seller_state</th>\n",
       "      <th>product_id</th>\n",
       "      <th>product_name_lenght</th>\n",
       "      <th>product_description_lenght</th>\n",
       "      <th>product_photos_qty</th>\n",
       "      <th>product_weight_g</th>\n",
       "      <th>order_id</th>\n",
       "      <th>order_item_id</th>\n",
       "      <th>shipping_limit_date</th>\n",
       "      <th>...</th>\n",
       "      <th>freight_value</th>\n",
       "      <th>payment_sequential</th>\n",
       "      <th>payment_type</th>\n",
       "      <th>payment_installments</th>\n",
       "      <th>payment_value</th>\n",
       "      <th>customer_id</th>\n",
       "      <th>customer_unique_id</th>\n",
       "      <th>Time_Delivery-Purchase</th>\n",
       "      <th>review_id</th>\n",
       "      <th>review_classification</th>\n",
       "    </tr>\n",
       "  </thead>\n",
       "  <tbody>\n",
       "    <tr>\n",
       "      <th>0</th>\n",
       "      <td>3442f8959a84dea7ee197c632cb2df15</td>\n",
       "      <td>SP</td>\n",
       "      <td>ffb64e34a37740dafb6c88f1abd1fa61</td>\n",
       "      <td>26.0</td>\n",
       "      <td>417.0</td>\n",
       "      <td>3.0</td>\n",
       "      <td>700.0</td>\n",
       "      <td>4a90af3e85dd563884e2afeab1091394</td>\n",
       "      <td>1</td>\n",
       "      <td>2017-08-25 20:50:19</td>\n",
       "      <td>...</td>\n",
       "      <td>9.56</td>\n",
       "      <td>1</td>\n",
       "      <td>credit_card</td>\n",
       "      <td>2</td>\n",
       "      <td>115.76</td>\n",
       "      <td>9d6837f9700a3441e7183bff3bc4eef0</td>\n",
       "      <td>f421a2a66b69dbfe6db0c87845281a90</td>\n",
       "      <td>8.0</td>\n",
       "      <td>88980a9c50a6909fa1fe35ddab8fa1e2</td>\n",
       "      <td>Top Review</td>\n",
       "    </tr>\n",
       "    <tr>\n",
       "      <th>1</th>\n",
       "      <td>3442f8959a84dea7ee197c632cb2df15</td>\n",
       "      <td>SP</td>\n",
       "      <td>f4621f8ad6f54a2e3c408884068be46d</td>\n",
       "      <td>27.0</td>\n",
       "      <td>485.0</td>\n",
       "      <td>2.0</td>\n",
       "      <td>600.0</td>\n",
       "      <td>6d953888a914b67350d5bc4d48f2acab</td>\n",
       "      <td>1</td>\n",
       "      <td>2017-05-11 16:25:11</td>\n",
       "      <td>...</td>\n",
       "      <td>15.92</td>\n",
       "      <td>1</td>\n",
       "      <td>credit_card</td>\n",
       "      <td>2</td>\n",
       "      <td>117.62</td>\n",
       "      <td>a973c4e3ad82777add3fa188f91dacea</td>\n",
       "      <td>b4527423469300ee354458e1b5f961be</td>\n",
       "      <td>28.0</td>\n",
       "      <td>b9b791819c5c1a5c6a4ffc7881f97fb5</td>\n",
       "      <td>Normal Review</td>\n",
       "    </tr>\n",
       "    <tr>\n",
       "      <th>2</th>\n",
       "      <td>d1b65fc7debc3361ea86b5f14c68d2e2</td>\n",
       "      <td>SP</td>\n",
       "      <td>55103cbbe0851d3a303a022cc4140628</td>\n",
       "      <td>32.0</td>\n",
       "      <td>1064.0</td>\n",
       "      <td>5.0</td>\n",
       "      <td>2900.0</td>\n",
       "      <td>7a95f5626df09176d8823cbce3d9db1e</td>\n",
       "      <td>1</td>\n",
       "      <td>2017-08-17 23:30:18</td>\n",
       "      <td>...</td>\n",
       "      <td>23.40</td>\n",
       "      <td>1</td>\n",
       "      <td>credit_card</td>\n",
       "      <td>5</td>\n",
       "      <td>223.30</td>\n",
       "      <td>5511a7cbeae2a3a17ce3598944a5793e</td>\n",
       "      <td>fbc9c3a06d228159f866fd7bcd32febe</td>\n",
       "      <td>3.0</td>\n",
       "      <td>8816e1e0b0ceeffac222674d6be7621a</td>\n",
       "      <td>Top Review</td>\n",
       "    </tr>\n",
       "    <tr>\n",
       "      <th>3</th>\n",
       "      <td>d1b65fc7debc3361ea86b5f14c68d2e2</td>\n",
       "      <td>SP</td>\n",
       "      <td>1c36a5285f7f3b1ed2637d7c528ce5ff</td>\n",
       "      <td>21.0</td>\n",
       "      <td>769.0</td>\n",
       "      <td>4.0</td>\n",
       "      <td>1600.0</td>\n",
       "      <td>06e4e324b83309e575442446e34377d7</td>\n",
       "      <td>1</td>\n",
       "      <td>2017-06-30 02:25:24</td>\n",
       "      <td>...</td>\n",
       "      <td>22.70</td>\n",
       "      <td>1</td>\n",
       "      <td>boleto</td>\n",
       "      <td>1</td>\n",
       "      <td>122.60</td>\n",
       "      <td>28635c64d8f2aee6e47124350f7ffb38</td>\n",
       "      <td>f95a2fb1caacbd10edbe4afa7a5980f8</td>\n",
       "      <td>5.0</td>\n",
       "      <td>b793725422d848517417f2e9ac1d4eb9</td>\n",
       "      <td>Top Review</td>\n",
       "    </tr>\n",
       "    <tr>\n",
       "      <th>4</th>\n",
       "      <td>d1b65fc7debc3361ea86b5f14c68d2e2</td>\n",
       "      <td>SP</td>\n",
       "      <td>1c36a5285f7f3b1ed2637d7c528ce5ff</td>\n",
       "      <td>21.0</td>\n",
       "      <td>769.0</td>\n",
       "      <td>4.0</td>\n",
       "      <td>1600.0</td>\n",
       "      <td>6d771a62f8e59777188b20db61acb214</td>\n",
       "      <td>1</td>\n",
       "      <td>2017-10-09 15:07:16</td>\n",
       "      <td>...</td>\n",
       "      <td>45.09</td>\n",
       "      <td>1</td>\n",
       "      <td>credit_card</td>\n",
       "      <td>3</td>\n",
       "      <td>135.08</td>\n",
       "      <td>da2468255bbed189389e37ff2b98c534</td>\n",
       "      <td>fe99c37acdbd978fecb62eea4c58f415</td>\n",
       "      <td>4.0</td>\n",
       "      <td>1a6abde308f070c764bfebdbe3f18c3d</td>\n",
       "      <td>Normal Review</td>\n",
       "    </tr>\n",
       "  </tbody>\n",
       "</table>\n",
       "<p>5 rows × 21 columns</p>\n",
       "</div>"
      ],
      "text/plain": [
       "                          seller_id seller_state  \\\n",
       "0  3442f8959a84dea7ee197c632cb2df15           SP   \n",
       "1  3442f8959a84dea7ee197c632cb2df15           SP   \n",
       "2  d1b65fc7debc3361ea86b5f14c68d2e2           SP   \n",
       "3  d1b65fc7debc3361ea86b5f14c68d2e2           SP   \n",
       "4  d1b65fc7debc3361ea86b5f14c68d2e2           SP   \n",
       "\n",
       "                         product_id  product_name_lenght  \\\n",
       "0  ffb64e34a37740dafb6c88f1abd1fa61                 26.0   \n",
       "1  f4621f8ad6f54a2e3c408884068be46d                 27.0   \n",
       "2  55103cbbe0851d3a303a022cc4140628                 32.0   \n",
       "3  1c36a5285f7f3b1ed2637d7c528ce5ff                 21.0   \n",
       "4  1c36a5285f7f3b1ed2637d7c528ce5ff                 21.0   \n",
       "\n",
       "   product_description_lenght  product_photos_qty  product_weight_g  \\\n",
       "0                       417.0                 3.0             700.0   \n",
       "1                       485.0                 2.0             600.0   \n",
       "2                      1064.0                 5.0            2900.0   \n",
       "3                       769.0                 4.0            1600.0   \n",
       "4                       769.0                 4.0            1600.0   \n",
       "\n",
       "                           order_id  order_item_id  shipping_limit_date  ...  \\\n",
       "0  4a90af3e85dd563884e2afeab1091394              1  2017-08-25 20:50:19  ...   \n",
       "1  6d953888a914b67350d5bc4d48f2acab              1  2017-05-11 16:25:11  ...   \n",
       "2  7a95f5626df09176d8823cbce3d9db1e              1  2017-08-17 23:30:18  ...   \n",
       "3  06e4e324b83309e575442446e34377d7              1  2017-06-30 02:25:24  ...   \n",
       "4  6d771a62f8e59777188b20db61acb214              1  2017-10-09 15:07:16  ...   \n",
       "\n",
       "   freight_value  payment_sequential  payment_type payment_installments  \\\n",
       "0           9.56                   1   credit_card                    2   \n",
       "1          15.92                   1   credit_card                    2   \n",
       "2          23.40                   1   credit_card                    5   \n",
       "3          22.70                   1        boleto                    1   \n",
       "4          45.09                   1   credit_card                    3   \n",
       "\n",
       "   payment_value                       customer_id  \\\n",
       "0         115.76  9d6837f9700a3441e7183bff3bc4eef0   \n",
       "1         117.62  a973c4e3ad82777add3fa188f91dacea   \n",
       "2         223.30  5511a7cbeae2a3a17ce3598944a5793e   \n",
       "3         122.60  28635c64d8f2aee6e47124350f7ffb38   \n",
       "4         135.08  da2468255bbed189389e37ff2b98c534   \n",
       "\n",
       "                 customer_unique_id Time_Delivery-Purchase  \\\n",
       "0  f421a2a66b69dbfe6db0c87845281a90                    8.0   \n",
       "1  b4527423469300ee354458e1b5f961be                   28.0   \n",
       "2  fbc9c3a06d228159f866fd7bcd32febe                    3.0   \n",
       "3  f95a2fb1caacbd10edbe4afa7a5980f8                    5.0   \n",
       "4  fe99c37acdbd978fecb62eea4c58f415                    4.0   \n",
       "\n",
       "                          review_id review_classification  \n",
       "0  88980a9c50a6909fa1fe35ddab8fa1e2            Top Review  \n",
       "1  b9b791819c5c1a5c6a4ffc7881f97fb5         Normal Review  \n",
       "2  8816e1e0b0ceeffac222674d6be7621a            Top Review  \n",
       "3  b793725422d848517417f2e9ac1d4eb9            Top Review  \n",
       "4  1a6abde308f070c764bfebdbe3f18c3d         Normal Review  \n",
       "\n",
       "[5 rows x 21 columns]"
      ]
     },
     "execution_count": 97,
     "metadata": {},
     "output_type": "execute_result"
    }
   ],
   "source": [
    "x6 = pd.merge(seller_info, x5, on='seller_id', how='inner')\n",
    "print(x6.shape)\n",
    "x6.head()\n"
   ]
  },
  {
   "cell_type": "code",
   "execution_count": 99,
   "id": "a57e0233",
   "metadata": {},
   "outputs": [
    {
     "name": "stdout",
     "output_type": "stream",
     "text": [
      "0\n",
      "0\n",
      "seller_id                     0\n",
      "seller_state                  0\n",
      "product_id                    0\n",
      "product_name_lenght           0\n",
      "product_description_lenght    0\n",
      "product_photos_qty            0\n",
      "product_weight_g              0\n",
      "order_id                      0\n",
      "order_item_id                 0\n",
      "shipping_limit_date           0\n",
      "price                         0\n",
      "freight_value                 0\n",
      "payment_sequential            0\n",
      "payment_type                  0\n",
      "payment_installments          0\n",
      "payment_value                 0\n",
      "customer_id                   0\n",
      "customer_unique_id            0\n",
      "Time_Delivery-Purchase        0\n",
      "review_id                     0\n",
      "review_classification         0\n",
      "dtype: int64\n"
     ]
    }
   ],
   "source": [
    "print(x6.duplicated().sum())\n",
    "print(x6['review_id'].duplicated().sum())\n",
    "print(x6.isna().sum())"
   ]
  },
  {
   "cell_type": "code",
   "execution_count": 100,
   "id": "751c1ffb",
   "metadata": {},
   "outputs": [
    {
     "data": {
      "text/plain": [
       "Index(['seller_id', 'seller_state', 'product_id', 'product_name_lenght',\n",
       "       'product_description_lenght', 'product_photos_qty', 'product_weight_g',\n",
       "       'order_id', 'order_item_id', 'shipping_limit_date', 'price',\n",
       "       'freight_value', 'payment_sequential', 'payment_type',\n",
       "       'payment_installments', 'payment_value', 'customer_id',\n",
       "       'customer_unique_id', 'Time_Delivery-Purchase', 'review_id',\n",
       "       'review_classification'],\n",
       "      dtype='object')"
      ]
     },
     "execution_count": 100,
     "metadata": {},
     "output_type": "execute_result"
    }
   ],
   "source": [
    "x6.columns"
   ]
  },
  {
   "cell_type": "markdown",
   "id": "8653978f",
   "metadata": {},
   "source": [
    "## Feature Engineering"
   ]
  },
  {
   "cell_type": "code",
   "execution_count": 102,
   "id": "630fc8a7",
   "metadata": {},
   "outputs": [
    {
     "data": {
      "text/html": [
       "<div>\n",
       "<style scoped>\n",
       "    .dataframe tbody tr th:only-of-type {\n",
       "        vertical-align: middle;\n",
       "    }\n",
       "\n",
       "    .dataframe tbody tr th {\n",
       "        vertical-align: top;\n",
       "    }\n",
       "\n",
       "    .dataframe thead th {\n",
       "        text-align: right;\n",
       "    }\n",
       "</style>\n",
       "<table border=\"1\" class=\"dataframe\">\n",
       "  <thead>\n",
       "    <tr style=\"text-align: right;\">\n",
       "      <th></th>\n",
       "      <th>product_name_lenght</th>\n",
       "      <th>product_description_lenght</th>\n",
       "      <th>product_photos_qty</th>\n",
       "      <th>product_weight_g</th>\n",
       "      <th>price</th>\n",
       "      <th>freight_value</th>\n",
       "      <th>payment_sequential</th>\n",
       "      <th>payment_type</th>\n",
       "      <th>payment_installments</th>\n",
       "      <th>payment_value</th>\n",
       "      <th>Time_Delivery-Purchase</th>\n",
       "      <th>review_classification</th>\n",
       "    </tr>\n",
       "  </thead>\n",
       "  <tbody>\n",
       "    <tr>\n",
       "      <th>0</th>\n",
       "      <td>26.0</td>\n",
       "      <td>417.0</td>\n",
       "      <td>3.0</td>\n",
       "      <td>700.0</td>\n",
       "      <td>106.20</td>\n",
       "      <td>9.56</td>\n",
       "      <td>1</td>\n",
       "      <td>credit_card</td>\n",
       "      <td>2</td>\n",
       "      <td>115.76</td>\n",
       "      <td>8.0</td>\n",
       "      <td>Top Review</td>\n",
       "    </tr>\n",
       "    <tr>\n",
       "      <th>1</th>\n",
       "      <td>27.0</td>\n",
       "      <td>485.0</td>\n",
       "      <td>2.0</td>\n",
       "      <td>600.0</td>\n",
       "      <td>101.70</td>\n",
       "      <td>15.92</td>\n",
       "      <td>1</td>\n",
       "      <td>credit_card</td>\n",
       "      <td>2</td>\n",
       "      <td>117.62</td>\n",
       "      <td>28.0</td>\n",
       "      <td>Normal Review</td>\n",
       "    </tr>\n",
       "    <tr>\n",
       "      <th>2</th>\n",
       "      <td>32.0</td>\n",
       "      <td>1064.0</td>\n",
       "      <td>5.0</td>\n",
       "      <td>2900.0</td>\n",
       "      <td>199.90</td>\n",
       "      <td>23.40</td>\n",
       "      <td>1</td>\n",
       "      <td>credit_card</td>\n",
       "      <td>5</td>\n",
       "      <td>223.30</td>\n",
       "      <td>3.0</td>\n",
       "      <td>Top Review</td>\n",
       "    </tr>\n",
       "    <tr>\n",
       "      <th>3</th>\n",
       "      <td>21.0</td>\n",
       "      <td>769.0</td>\n",
       "      <td>4.0</td>\n",
       "      <td>1600.0</td>\n",
       "      <td>99.90</td>\n",
       "      <td>22.70</td>\n",
       "      <td>1</td>\n",
       "      <td>boleto</td>\n",
       "      <td>1</td>\n",
       "      <td>122.60</td>\n",
       "      <td>5.0</td>\n",
       "      <td>Top Review</td>\n",
       "    </tr>\n",
       "    <tr>\n",
       "      <th>4</th>\n",
       "      <td>21.0</td>\n",
       "      <td>769.0</td>\n",
       "      <td>4.0</td>\n",
       "      <td>1600.0</td>\n",
       "      <td>89.99</td>\n",
       "      <td>45.09</td>\n",
       "      <td>1</td>\n",
       "      <td>credit_card</td>\n",
       "      <td>3</td>\n",
       "      <td>135.08</td>\n",
       "      <td>4.0</td>\n",
       "      <td>Normal Review</td>\n",
       "    </tr>\n",
       "  </tbody>\n",
       "</table>\n",
       "</div>"
      ],
      "text/plain": [
       "   product_name_lenght  product_description_lenght  product_photos_qty  \\\n",
       "0                 26.0                       417.0                 3.0   \n",
       "1                 27.0                       485.0                 2.0   \n",
       "2                 32.0                      1064.0                 5.0   \n",
       "3                 21.0                       769.0                 4.0   \n",
       "4                 21.0                       769.0                 4.0   \n",
       "\n",
       "   product_weight_g   price  freight_value  payment_sequential payment_type  \\\n",
       "0             700.0  106.20           9.56                   1  credit_card   \n",
       "1             600.0  101.70          15.92                   1  credit_card   \n",
       "2            2900.0  199.90          23.40                   1  credit_card   \n",
       "3            1600.0   99.90          22.70                   1       boleto   \n",
       "4            1600.0   89.99          45.09                   1  credit_card   \n",
       "\n",
       "   payment_installments  payment_value  Time_Delivery-Purchase  \\\n",
       "0                     2         115.76                     8.0   \n",
       "1                     2         117.62                    28.0   \n",
       "2                     5         223.30                     3.0   \n",
       "3                     1         122.60                     5.0   \n",
       "4                     3         135.08                     4.0   \n",
       "\n",
       "  review_classification  \n",
       "0            Top Review  \n",
       "1         Normal Review  \n",
       "2            Top Review  \n",
       "3            Top Review  \n",
       "4         Normal Review  "
      ]
     },
     "execution_count": 102,
     "metadata": {},
     "output_type": "execute_result"
    }
   ],
   "source": [
    "x6.drop(columns=['seller_id', 'seller_state', 'product_id', 'order_id', 'order_item_id', 'shipping_limit_date',\n",
    "                \n",
    "                'customer_id','customer_unique_id','review_id'], inplace=True)\n",
    "\n",
    "x6.head()"
   ]
  },
  {
   "cell_type": "code",
   "execution_count": 104,
   "id": "2f0d4470",
   "metadata": {},
   "outputs": [],
   "source": [
    "df = pd.get_dummies(x6, columns=['payment_type'], drop_first=True)"
   ]
  },
  {
   "cell_type": "markdown",
   "id": "55879a77",
   "metadata": {},
   "source": [
    "### Checking Multicollinearity"
   ]
  },
  {
   "cell_type": "code",
   "execution_count": 125,
   "id": "454d8135",
   "metadata": {},
   "outputs": [
    {
     "data": {
      "text/plain": [
       "Index(['product_name_lenght', 'product_description_lenght',\n",
       "       'product_photos_qty', 'product_weight_g', 'price', 'freight_value',\n",
       "       'payment_sequential', 'payment_installments', 'payment_value',\n",
       "       'Time_Delivery-Purchase', 'review_classification',\n",
       "       'payment_type_credit_card', 'payment_type_debit_card',\n",
       "       'payment_type_voucher'],\n",
       "      dtype='object')"
      ]
     },
     "execution_count": 125,
     "metadata": {},
     "output_type": "execute_result"
    }
   ],
   "source": [
    "df.columns"
   ]
  },
  {
   "cell_type": "code",
   "execution_count": 126,
   "id": "1ac71a9f",
   "metadata": {},
   "outputs": [
    {
     "data": {
      "text/plain": [
       "<AxesSubplot:>"
      ]
     },
     "execution_count": 126,
     "metadata": {},
     "output_type": "execute_result"
    },
    {
     "data": {
      "image/png": "[encoded data removed]",
      "text/plain": [
       "<Figure size 432x288 with 2 Axes>"
      ]
     },
     "metadata": {},
     "output_type": "display_data"
    }
   ],
   "source": [
    "sns.heatmap(df[['product_name_lenght', 'product_description_lenght',\n",
    "       'product_photos_qty', 'product_weight_g', 'price', 'freight_value',\n",
    "       'payment_sequential', 'payment_installments', 'payment_value',\n",
    "       'Time_Delivery-Purchase',\n",
    "       'payment_type_credit_card', 'payment_type_debit_card',\n",
    "       'payment_type_voucher']].corr(), cmap='coolwarm')"
   ]
  },
  {
   "cell_type": "code",
   "execution_count": 127,
   "id": "dc6ae7db",
   "metadata": {},
   "outputs": [],
   "source": [
    "# Drop payment sequential, product_weight_g, and payment value\n",
    "df.drop(columns=['payment_value', 'payment_sequential', 'product_weight_g'], inplace=True)"
   ]
  },
  {
   "cell_type": "code",
   "execution_count": 129,
   "id": "c065849a",
   "metadata": {},
   "outputs": [
    {
     "data": {
      "text/plain": [
       "<AxesSubplot:>"
      ]
     },
     "execution_count": 129,
     "metadata": {},
     "output_type": "execute_result"
    },
    {
     "data": {
      "image/png": "[encoded data removed]",
      "text/plain": [
       "<Figure size 432x288 with 2 Axes>"
      ]
     },
     "metadata": {},
     "output_type": "display_data"
    }
   ],
   "source": [
    "sns.heatmap(df[['product_name_lenght', 'product_description_lenght',\n",
    "       'product_photos_qty', 'price', 'freight_value', 'payment_installments',\n",
    "       'Time_Delivery-Purchase',\n",
    "       'payment_type_credit_card', 'payment_type_debit_card',\n",
    "       'payment_type_voucher']].corr(), cmap='coolwarm')"
   ]
  },
  {
   "cell_type": "markdown",
   "id": "1472b6e6",
   "metadata": {},
   "source": [
    "## Train Test Split,  Standardize and Oversampling"
   ]
  },
  {
   "cell_type": "code",
   "execution_count": 441,
   "id": "19d91477",
   "metadata": {},
   "outputs": [],
   "source": [
    "X = df.drop('review_classification', axis=1)\n",
    "y = df['review_classification']"
   ]
  },
  {
   "cell_type": "code",
   "execution_count": 442,
   "id": "28b94bef",
   "metadata": {},
   "outputs": [],
   "source": [
    "from sklearn.preprocessing import StandardScaler\n",
    "scaler = StandardScaler()\n",
    "X = scaler.fit(X).transform(X)"
   ]
  },
  {
   "cell_type": "code",
   "execution_count": 443,
   "id": "bc46918e",
   "metadata": {},
   "outputs": [],
   "source": [
    "from sklearn.model_selection import train_test_split\n",
    "X_train, X_test, y_train, y_test = train_test_split(X, y, test_size=0.18, random_state=102)"
   ]
  },
  {
   "cell_type": "code",
   "execution_count": 444,
   "id": "c0f48f22",
   "metadata": {},
   "outputs": [],
   "source": [
    "from imblearn.over_sampling import SMOTE\n",
    "X_train, y_train = SMOTE().fit_resample(X_train, y_train)"
   ]
  },
  {
   "cell_type": "code",
   "execution_count": 445,
   "id": "0be0ad57",
   "metadata": {},
   "outputs": [
    {
     "data": {
      "text/plain": [
       "(82652, 10)"
      ]
     },
     "execution_count": 445,
     "metadata": {},
     "output_type": "execute_result"
    }
   ],
   "source": [
    "X_train.shape"
   ]
  },
  {
   "cell_type": "markdown",
   "id": "137120f1",
   "metadata": {},
   "source": [
    "## Using different ML models"
   ]
  },
  {
   "cell_type": "markdown",
   "id": "e6081bb1",
   "metadata": {},
   "source": [
    "### Gradient Boosting"
   ]
  },
  {
   "cell_type": "code",
   "execution_count": 446,
   "id": "d4f04626",
   "metadata": {},
   "outputs": [],
   "source": [
    "from sklearn.ensemble import GradientBoostingClassifier\n",
    "from sklearn.model_selection import GridSearchCV"
   ]
  },
  {
   "cell_type": "code",
   "execution_count": 447,
   "id": "28c20c2a",
   "metadata": {
    "scrolled": false
   },
   "outputs": [
    {
     "data": {
      "text/plain": [
       "GradientBoostingClassifier()"
      ]
     },
     "execution_count": 447,
     "metadata": {},
     "output_type": "execute_result"
    }
   ],
   "source": [
    "gb = GradientBoostingClassifier()\n",
    "gb.fit(X_train, y_train)"
   ]
  },
  {
   "cell_type": "code",
   "execution_count": 448,
   "id": "de30a2e1",
   "metadata": {},
   "outputs": [
    {
     "name": "stdout",
     "output_type": "stream",
     "text": [
      "               precision    recall  f1-score   support\n",
      "\n",
      "Normal Review       0.58      0.36      0.45      6287\n",
      "   Top Review       0.65      0.82      0.72      9098\n",
      "\n",
      "     accuracy                           0.63     15385\n",
      "    macro avg       0.61      0.59      0.59     15385\n",
      " weighted avg       0.62      0.63      0.61     15385\n",
      "\n",
      "[[2278 4009]\n",
      " [1653 7445]]\n"
     ]
    }
   ],
   "source": [
    "predictions_boosting = gb.predict(X_test)\n",
    "from sklearn.metrics import classification_report,confusion_matrix\n",
    "\n",
    "print(classification_report(y_test, predictions_boosting))\n",
    "print(confusion_matrix(y_test, predictions_boosting))"
   ]
  },
  {
   "cell_type": "code",
   "execution_count": 449,
   "id": "ec10a488",
   "metadata": {},
   "outputs": [],
   "source": [
    "acc_gb = gb.score(X_test, y_test)"
   ]
  },
  {
   "cell_type": "code",
   "execution_count": 450,
   "id": "ca4305df",
   "metadata": {},
   "outputs": [
    {
     "data": {
      "text/plain": [
       "0.631979200519987"
      ]
     },
     "execution_count": 450,
     "metadata": {},
     "output_type": "execute_result"
    }
   ],
   "source": [
    "acc_gb"
   ]
  },
  {
   "cell_type": "markdown",
   "id": "38715d26",
   "metadata": {},
   "source": [
    "### Random Forest Classifer"
   ]
  },
  {
   "cell_type": "code",
   "execution_count": 451,
   "id": "40512699",
   "metadata": {
    "scrolled": true
   },
   "outputs": [
    {
     "name": "stdout",
     "output_type": "stream",
     "text": [
      "               precision    recall  f1-score   support\n",
      "\n",
      "Normal Review       0.52      0.42      0.46      6287\n",
      "   Top Review       0.64      0.73      0.69      9098\n",
      "\n",
      "     accuracy                           0.60     15385\n",
      "    macro avg       0.58      0.57      0.57     15385\n",
      " weighted avg       0.59      0.60      0.59     15385\n",
      "\n",
      "[[2610 3677]\n",
      " [2439 6659]]\n"
     ]
    }
   ],
   "source": [
    "from sklearn.ensemble import RandomForestClassifier\n",
    "rf = RandomForestClassifier()\n",
    "\n",
    "rf.fit(X_train, y_train)\n",
    "predictions_Random_forest = rf.predict(X_test)\n",
    "\n",
    "print(classification_report(y_test, predictions_Random_forest))\n",
    "print(confusion_matrix(y_test, predictions_Random_forest))"
   ]
  },
  {
   "cell_type": "code",
   "execution_count": 452,
   "id": "bd85d0f7",
   "metadata": {},
   "outputs": [
    {
     "data": {
      "text/plain": [
       "0.6024699382515437"
      ]
     },
     "execution_count": 452,
     "metadata": {},
     "output_type": "execute_result"
    }
   ],
   "source": [
    "rf_acc = rf.score(X_test, y_test)\n",
    "rf.score(X_test, y_test)"
   ]
  },
  {
   "cell_type": "markdown",
   "id": "3b728b2c",
   "metadata": {},
   "source": [
    "### XG Boost"
   ]
  },
  {
   "cell_type": "code",
   "execution_count": 453,
   "id": "73a1d731",
   "metadata": {},
   "outputs": [],
   "source": [
    "import warnings\n",
    "warnings.filterwarnings('ignore')"
   ]
  },
  {
   "cell_type": "code",
   "execution_count": 454,
   "id": "51ee4b7c",
   "metadata": {},
   "outputs": [],
   "source": [
    "from xgboost import XGBClassifier"
   ]
  },
  {
   "cell_type": "code",
   "execution_count": 455,
   "id": "d2c9a8c2",
   "metadata": {},
   "outputs": [
    {
     "name": "stdout",
     "output_type": "stream",
     "text": [
      "[21:18:58] WARNING: C:/Users/Administrator/workspace/xgboost-win64_release_1.5.0/src/learner.cc:1115: Starting in XGBoost 1.3.0, the default evaluation metric used with the objective 'binary:logistic' was changed from 'error' to 'logloss'. Explicitly set eval_metric if you'd like to restore the old behavior.\n",
      "               precision    recall  f1-score   support\n",
      "\n",
      "Normal Review       0.60      0.32      0.41      6287\n",
      "   Top Review       0.64      0.85      0.73      9098\n",
      "\n",
      "     accuracy                           0.63     15385\n",
      "    macro avg       0.62      0.58      0.57     15385\n",
      " weighted avg       0.62      0.63      0.60     15385\n",
      "\n",
      "[[1986 4301]\n",
      " [1351 7747]]\n"
     ]
    }
   ],
   "source": [
    "# fit model on training data\n",
    "xg = XGBClassifier()\n",
    "\n",
    "xg.fit(X_train, y_train)\n",
    "y_pred = xg.predict(X_test)\n",
    "\n",
    "print(classification_report(y_test, y_pred))\n",
    "print(confusion_matrix(y_test, y_pred))"
   ]
  },
  {
   "cell_type": "code",
   "execution_count": 456,
   "id": "02d0eb7f",
   "metadata": {},
   "outputs": [
    {
     "data": {
      "text/plain": [
       "0.6326291842703933"
      ]
     },
     "execution_count": 456,
     "metadata": {},
     "output_type": "execute_result"
    }
   ],
   "source": [
    "xg_acc = xg.score(X_test, y_test)\n",
    "xg.score(X_test, y_test)"
   ]
  },
  {
   "cell_type": "markdown",
   "id": "776f2295",
   "metadata": {},
   "source": [
    "### Ensemble Methods"
   ]
  },
  {
   "cell_type": "code",
   "execution_count": 457,
   "id": "6eb69303",
   "metadata": {},
   "outputs": [],
   "source": [
    "from sklearn.svm import SVC\n",
    "from sklearn.ensemble import BaggingClassifier\n",
    "from sklearn.tree import DecisionTreeClassifier\n",
    "from sklearn.linear_model import LogisticRegression\n",
    "from sklearn.naive_bayes import GaussianNB\n",
    "from sklearn.ensemble import VotingClassifier\n",
    "from sklearn.ensemble import RandomForestClassifier"
   ]
  },
  {
   "cell_type": "code",
   "execution_count": 458,
   "id": "56afdc0b",
   "metadata": {},
   "outputs": [],
   "source": [
    "clf1 = LogisticRegression()\n",
    "clf2 = RandomForestClassifier()\n",
    "clf3 = GradientBoostingClassifier()"
   ]
  },
  {
   "cell_type": "code",
   "execution_count": 459,
   "id": "a8c97282",
   "metadata": {},
   "outputs": [],
   "source": [
    "eclf1 = VotingClassifier(estimators=[\n",
    "       ('lr', clf1), ('rf', clf2), ('gb', clf3)], voting='hard')\n",
    "eclf1 = eclf1.fit(X_train, y_train)\n",
    "y_pred = eclf1.predict(X_test)"
   ]
  },
  {
   "cell_type": "code",
   "execution_count": 460,
   "id": "f858bd52",
   "metadata": {},
   "outputs": [
    {
     "name": "stdout",
     "output_type": "stream",
     "text": [
      "               precision    recall  f1-score   support\n",
      "\n",
      "Normal Review       0.56      0.41      0.47      6287\n",
      "   Top Review       0.66      0.78      0.71      9098\n",
      "\n",
      "     accuracy                           0.63     15385\n",
      "    macro avg       0.61      0.59      0.59     15385\n",
      " weighted avg       0.62      0.63      0.61     15385\n",
      "\n",
      "[[2551 3736]\n",
      " [2005 7093]]\n"
     ]
    }
   ],
   "source": [
    "print(classification_report(y_test, y_pred))\n",
    "print(confusion_matrix(y_test, y_pred))"
   ]
  },
  {
   "cell_type": "code",
   "execution_count": 461,
   "id": "8896c7f4",
   "metadata": {},
   "outputs": [
    {
     "data": {
      "text/plain": [
       "0.6268443288917777"
      ]
     },
     "execution_count": 461,
     "metadata": {},
     "output_type": "execute_result"
    }
   ],
   "source": [
    "eclf1.score(X_test, y_test)"
   ]
  },
  {
   "cell_type": "code",
   "execution_count": 462,
   "id": "ec446763",
   "metadata": {},
   "outputs": [],
   "source": [
    "ens_acc = eclf1.score(X_test, y_test)"
   ]
  },
  {
   "cell_type": "code",
   "execution_count": null,
   "id": "1a4ee9ad",
   "metadata": {},
   "outputs": [],
   "source": []
  },
  {
   "cell_type": "markdown",
   "id": "a57239ac",
   "metadata": {},
   "source": [
    "### Bagging"
   ]
  },
  {
   "cell_type": "code",
   "execution_count": 463,
   "id": "0d4e9302",
   "metadata": {},
   "outputs": [
    {
     "name": "stdout",
     "output_type": "stream",
     "text": [
      "               precision    recall  f1-score   support\n",
      "\n",
      "Normal Review       0.47      0.49      0.48      6287\n",
      "   Top Review       0.64      0.61      0.62      9098\n",
      "\n",
      "     accuracy                           0.56     15385\n",
      "    macro avg       0.55      0.55      0.55     15385\n",
      " weighted avg       0.57      0.56      0.56     15385\n",
      "\n",
      "[[3103 3184]\n",
      " [3553 5545]]\n",
      "0.5621059473513162\n"
     ]
    }
   ],
   "source": [
    "bg = BaggingClassifier()\n",
    "bg.fit(X_train, y_train)\n",
    "y_pred = bg.predict(X_test)\n",
    "bg_acc = bg.score(X_test, y_test)\n",
    "\n",
    "print(classification_report(y_test, y_pred))\n",
    "print(confusion_matrix(y_test, y_pred))\n",
    "print(bg_acc)"
   ]
  },
  {
   "cell_type": "markdown",
   "id": "4a9c4330",
   "metadata": {},
   "source": [
    "### KNNs"
   ]
  },
  {
   "cell_type": "code",
   "execution_count": 464,
   "id": "1a521268",
   "metadata": {},
   "outputs": [
    {
     "name": "stdout",
     "output_type": "stream",
     "text": [
      "               precision    recall  f1-score   support\n",
      "\n",
      "Normal Review       0.46      0.52      0.49      6287\n",
      "   Top Review       0.64      0.58      0.61      9098\n",
      "\n",
      "     accuracy                           0.56     15385\n",
      "    macro avg       0.55      0.55      0.55     15385\n",
      " weighted avg       0.57      0.56      0.56     15385\n",
      "\n",
      "[[3286 3001]\n",
      " [3834 5264]]\n",
      "0.5557361065973351\n"
     ]
    }
   ],
   "source": [
    "from sklearn.neighbors import KNeighborsClassifier\n",
    "knn = KNeighborsClassifier()\n",
    "knn.fit(X_train, y_train)\n",
    "y_pred = knn.predict(X_test)\n",
    "knn_acc = knn.score(X_test, y_test)\n",
    "\n",
    "print(classification_report(y_test, y_pred))\n",
    "print(confusion_matrix(y_test, y_pred))\n",
    "print(knn_acc)"
   ]
  },
  {
   "cell_type": "markdown",
   "id": "adaa0609",
   "metadata": {},
   "source": [
    "### Logistic Regression"
   ]
  },
  {
   "cell_type": "code",
   "execution_count": 465,
   "id": "65f9d8c3",
   "metadata": {},
   "outputs": [
    {
     "name": "stdout",
     "output_type": "stream",
     "text": [
      "               precision    recall  f1-score   support\n",
      "\n",
      "Normal Review       0.52      0.48      0.50      6287\n",
      "   Top Review       0.66      0.69      0.67      9098\n",
      "\n",
      "     accuracy                           0.60     15385\n",
      "    macro avg       0.59      0.59      0.59     15385\n",
      " weighted avg       0.60      0.60      0.60     15385\n",
      "\n",
      "[[3047 3240]\n",
      " [2844 6254]]\n",
      "0.6045498862528437\n"
     ]
    }
   ],
   "source": [
    "lr=LogisticRegression(C=1)\n",
    "lr.fit(X_train, y_train)\n",
    "y_pred = lr.predict(X_test)\n",
    "lr_acc = lr.score(X_test, y_test)\n",
    "\n",
    "print(classification_report(y_test, y_pred))\n",
    "print(confusion_matrix(y_test, y_pred))\n",
    "print(lr_acc)"
   ]
  },
  {
   "cell_type": "markdown",
   "id": "c8fa8362",
   "metadata": {},
   "source": [
    "### Decision Tree Classifier"
   ]
  },
  {
   "cell_type": "code",
   "execution_count": 466,
   "id": "419d5429",
   "metadata": {},
   "outputs": [
    {
     "name": "stdout",
     "output_type": "stream",
     "text": [
      "               precision    recall  f1-score   support\n",
      "\n",
      "Normal Review       0.45      0.47      0.46      6287\n",
      "   Top Review       0.63      0.61      0.62      9098\n",
      "\n",
      "     accuracy                           0.55     15385\n",
      "    macro avg       0.54      0.54      0.54     15385\n",
      " weighted avg       0.56      0.55      0.55     15385\n",
      "\n",
      "[[2981 3306]\n",
      " [3576 5522]]\n",
      "0.5526811829704258\n"
     ]
    }
   ],
   "source": [
    "tree = DecisionTreeClassifier()\n",
    "tree.fit(X_train, y_train)\n",
    "y_pred = tree.predict(X_test)\n",
    "tree_acc = tree.score(X_test, y_test)\n",
    "\n",
    "print(classification_report(y_test, y_pred))\n",
    "print(confusion_matrix(y_test, y_pred))\n",
    "print(tree_acc)"
   ]
  },
  {
   "cell_type": "markdown",
   "id": "8389ebd1",
   "metadata": {},
   "source": [
    "## Selecting the best model"
   ]
  },
  {
   "cell_type": "code",
   "execution_count": 467,
   "id": "dd598cbd",
   "metadata": {},
   "outputs": [],
   "source": [
    "data = {'Algorithms': ['Gradient Boosting', 'Bagging', 'Logistic Regression', 'KNNs', 'Random Forest',\n",
    "                       'Decision Trees', 'Ensemble Methods', 'XG Boosting'],\n",
    "       'Accuracy_Scores': [acc_gb, bg_acc, lr_acc, knn_acc, rf_acc, tree_acc, ens_acc, xg_acc]}"
   ]
  },
  {
   "cell_type": "code",
   "execution_count": 468,
   "id": "2daee56a",
   "metadata": {
    "scrolled": true
   },
   "outputs": [
    {
     "data": {
      "text/html": [
       "<div>\n",
       "<style scoped>\n",
       "    .dataframe tbody tr th:only-of-type {\n",
       "        vertical-align: middle;\n",
       "    }\n",
       "\n",
       "    .dataframe tbody tr th {\n",
       "        vertical-align: top;\n",
       "    }\n",
       "\n",
       "    .dataframe thead th {\n",
       "        text-align: right;\n",
       "    }\n",
       "</style>\n",
       "<table border=\"1\" class=\"dataframe\">\n",
       "  <thead>\n",
       "    <tr style=\"text-align: right;\">\n",
       "      <th></th>\n",
       "      <th>Algorithms</th>\n",
       "      <th>Accuracy_Scores</th>\n",
       "    </tr>\n",
       "  </thead>\n",
       "  <tbody>\n",
       "    <tr>\n",
       "      <th>7</th>\n",
       "      <td>XG Boosting</td>\n",
       "      <td>0.632629</td>\n",
       "    </tr>\n",
       "    <tr>\n",
       "      <th>0</th>\n",
       "      <td>Gradient Boosting</td>\n",
       "      <td>0.631979</td>\n",
       "    </tr>\n",
       "    <tr>\n",
       "      <th>6</th>\n",
       "      <td>Ensemble Methods</td>\n",
       "      <td>0.626844</td>\n",
       "    </tr>\n",
       "    <tr>\n",
       "      <th>2</th>\n",
       "      <td>Logistic Regression</td>\n",
       "      <td>0.604550</td>\n",
       "    </tr>\n",
       "    <tr>\n",
       "      <th>4</th>\n",
       "      <td>Random Forest</td>\n",
       "      <td>0.602470</td>\n",
       "    </tr>\n",
       "    <tr>\n",
       "      <th>1</th>\n",
       "      <td>Bagging</td>\n",
       "      <td>0.562106</td>\n",
       "    </tr>\n",
       "    <tr>\n",
       "      <th>3</th>\n",
       "      <td>KNNs</td>\n",
       "      <td>0.555736</td>\n",
       "    </tr>\n",
       "    <tr>\n",
       "      <th>5</th>\n",
       "      <td>Decision Trees</td>\n",
       "      <td>0.552681</td>\n",
       "    </tr>\n",
       "  </tbody>\n",
       "</table>\n",
       "</div>"
      ],
      "text/plain": [
       "            Algorithms  Accuracy_Scores\n",
       "7          XG Boosting         0.632629\n",
       "0    Gradient Boosting         0.631979\n",
       "6     Ensemble Methods         0.626844\n",
       "2  Logistic Regression         0.604550\n",
       "4        Random Forest         0.602470\n",
       "1              Bagging         0.562106\n",
       "3                 KNNs         0.555736\n",
       "5       Decision Trees         0.552681"
      ]
     },
     "execution_count": 468,
     "metadata": {},
     "output_type": "execute_result"
    }
   ],
   "source": [
    "df_2 = pd.DataFrame(data)\n",
    "df_2.sort_values(by='Accuracy_Scores', ascending=False)"
   ]
  },
  {
   "cell_type": "code",
   "execution_count": 469,
   "id": "5685d3f5",
   "metadata": {},
   "outputs": [
    {
     "data": {
      "image/png": "[encoded data removed]",
      "text/plain": [
       "<Figure size 864x432 with 1 Axes>"
      ]
     },
     "metadata": {},
     "output_type": "display_data"
    }
   ],
   "source": [
    "plt.figure(figsize=(12,6))\n",
    "sns.barplot(x='Algorithms', y='Accuracy_Scores', data=df_2, palette='Set2')\n",
    "plt.tight_layout()"
   ]
  },
  {
   "cell_type": "markdown",
   "id": "b6efa541",
   "metadata": {},
   "source": [
    "XG Boosting seems to perform the best before hyperparameter tuning on the testing set and thus, will be selected for further hyperparameter enhancements"
   ]
  },
  {
   "cell_type": "code",
   "execution_count": 520,
   "id": "684cc1b9",
   "metadata": {},
   "outputs": [
    {
     "name": "stdout",
     "output_type": "stream",
     "text": [
      "               precision    recall  f1-score   support\n",
      "\n",
      "Normal Review       0.61      0.32      0.42      6287\n",
      "   Top Review       0.65      0.86      0.74      9098\n",
      "\n",
      "     accuracy                           0.64     15385\n",
      "    macro avg       0.63      0.59      0.58     15385\n",
      " weighted avg       0.63      0.64      0.61     15385\n",
      "\n",
      "[[1999 4288]\n",
      " [1278 7820]]\n"
     ]
    },
    {
     "data": {
      "text/plain": [
       "0.6382190445238869"
      ]
     },
     "execution_count": 520,
     "metadata": {},
     "output_type": "execute_result"
    }
   ],
   "source": [
    "xg = XGBClassifier(eta=0.1, eval_metric='mae')\n",
    "\n",
    "xg.fit(X_train, y_train)\n",
    "y_pred = xg.predict(X_test)\n",
    "\n",
    "print(classification_report(y_test, y_pred))\n",
    "print(confusion_matrix(y_test, y_pred))\n",
    "xg.score(X_test, y_test)"
   ]
  },
  {
   "cell_type": "code",
   "execution_count": null,
   "id": "bc1f8ebe",
   "metadata": {},
   "outputs": [],
   "source": []
  }
 ],
 "metadata": {
  "kernelspec": {
   "display_name": "Python 3 (ipykernel)",
   "language": "python",
   "name": "python3"
  },
  "language_info": {
   "codemirror_mode": {
    "name": "ipython",
    "version": 3
   },
   "file_extension": ".py",
   "mimetype": "text/x-python",
   "name": "python",
   "nbconvert_exporter": "python",
   "pygments_lexer": "ipython3",
   "version": "3.8.8"
  }
 },
 "nbformat": 4,
 "nbformat_minor": 5
}
